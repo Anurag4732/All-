{
 "cells": [
  {
   "cell_type": "code",
   "execution_count": 5,
   "metadata": {},
   "outputs": [],
   "source": [
    "import pandas as pd\n",
    "import numpy as np\n",
    "import matplotlib.pyplot as plt\n",
    "import seaborn as sns\n",
    "from sklearn.ensemble import GradientBoostingRegressor\n",
    "from sklearn.ensemble import RandomForestRegressor\n",
    "from sklearn.model_selection import train_test_split\n",
    "from sklearn import metrics\n",
    "sns.set()"
   ]
  },
  {
   "cell_type": "code",
   "execution_count": 6,
   "metadata": {},
   "outputs": [],
   "source": [
    "df = pd.read_csv('Big market sales data.csv')"
   ]
  },
  {
   "cell_type": "code",
   "execution_count": 4,
   "metadata": {},
   "outputs": [
    {
     "data": {
      "text/plain": [
       "(Index(['Item_Identifier', 'Item_Weight', 'Item_Fat_Content', 'Item_Visibility',\n",
       "        'Item_Type', 'Item_MRP', 'Outlet_Identifier',\n",
       "        'Outlet_Establishment_Year', 'Outlet_Size', 'Outlet_Location_Type',\n",
       "        'Outlet_Type', 'Item_Outlet_Sales'],\n",
       "       dtype='object'), (8523, 12))"
      ]
     },
     "execution_count": 4,
     "metadata": {},
     "output_type": "execute_result"
    }
   ],
   "source": [
    "df.columns, df.shape"
   ]
  },
  {
   "cell_type": "code",
   "execution_count": 9,
   "metadata": {},
   "outputs": [
    {
     "data": {
      "text/plain": [
       "0"
      ]
     },
     "execution_count": 9,
     "metadata": {},
     "output_type": "execute_result"
    }
   ],
   "source": [
    "df.duplicated().sum()"
   ]
  },
  {
   "cell_type": "code",
   "execution_count": 10,
   "metadata": {},
   "outputs": [
    {
     "data": {
      "text/plain": [
       "Item_Identifier                 0\n",
       "Item_Weight                  1463\n",
       "Item_Fat_Content                0\n",
       "Item_Visibility                 0\n",
       "Item_Type                       0\n",
       "Item_MRP                        0\n",
       "Outlet_Identifier               0\n",
       "Outlet_Establishment_Year       0\n",
       "Outlet_Size                  2410\n",
       "Outlet_Location_Type            0\n",
       "Outlet_Type                     0\n",
       "Item_Outlet_Sales               0\n",
       "dtype: int64"
      ]
     },
     "execution_count": 10,
     "metadata": {},
     "output_type": "execute_result"
    }
   ],
   "source": [
    "df.isna().sum()"
   ]
  },
  {
   "cell_type": "code",
   "execution_count": 11,
   "metadata": {},
   "outputs": [
    {
     "data": {
      "text/plain": [
       "Item_Identifier               object\n",
       "Item_Weight                  float64\n",
       "Item_Fat_Content              object\n",
       "Item_Visibility              float64\n",
       "Item_Type                     object\n",
       "Item_MRP                     float64\n",
       "Outlet_Identifier             object\n",
       "Outlet_Establishment_Year      int64\n",
       "Outlet_Size                   object\n",
       "Outlet_Location_Type          object\n",
       "Outlet_Type                   object\n",
       "Item_Outlet_Sales            float64\n",
       "dtype: object"
      ]
     },
     "execution_count": 11,
     "metadata": {},
     "output_type": "execute_result"
    }
   ],
   "source": [
    "df.dtypes"
   ]
  },
  {
   "cell_type": "code",
   "execution_count": 12,
   "metadata": {},
   "outputs": [
    {
     "data": {
      "text/html": [
       "<div>\n",
       "<style scoped>\n",
       "    .dataframe tbody tr th:only-of-type {\n",
       "        vertical-align: middle;\n",
       "    }\n",
       "\n",
       "    .dataframe tbody tr th {\n",
       "        vertical-align: top;\n",
       "    }\n",
       "\n",
       "    .dataframe thead th {\n",
       "        text-align: right;\n",
       "    }\n",
       "</style>\n",
       "<table border=\"1\" class=\"dataframe\">\n",
       "  <thead>\n",
       "    <tr style=\"text-align: right;\">\n",
       "      <th></th>\n",
       "      <th>Item_Weight</th>\n",
       "      <th>Item_Visibility</th>\n",
       "      <th>Item_MRP</th>\n",
       "      <th>Outlet_Establishment_Year</th>\n",
       "      <th>Item_Outlet_Sales</th>\n",
       "    </tr>\n",
       "  </thead>\n",
       "  <tbody>\n",
       "    <tr>\n",
       "      <td>count</td>\n",
       "      <td>7060.000000</td>\n",
       "      <td>8523.000000</td>\n",
       "      <td>8523.000000</td>\n",
       "      <td>8523.000000</td>\n",
       "      <td>8523.000000</td>\n",
       "    </tr>\n",
       "    <tr>\n",
       "      <td>mean</td>\n",
       "      <td>12.857645</td>\n",
       "      <td>0.066132</td>\n",
       "      <td>140.992782</td>\n",
       "      <td>1997.831867</td>\n",
       "      <td>2181.288914</td>\n",
       "    </tr>\n",
       "    <tr>\n",
       "      <td>std</td>\n",
       "      <td>4.643456</td>\n",
       "      <td>0.051598</td>\n",
       "      <td>62.275067</td>\n",
       "      <td>8.371760</td>\n",
       "      <td>1706.499616</td>\n",
       "    </tr>\n",
       "    <tr>\n",
       "      <td>min</td>\n",
       "      <td>4.555000</td>\n",
       "      <td>0.000000</td>\n",
       "      <td>31.290000</td>\n",
       "      <td>1985.000000</td>\n",
       "      <td>33.290000</td>\n",
       "    </tr>\n",
       "    <tr>\n",
       "      <td>25%</td>\n",
       "      <td>8.773750</td>\n",
       "      <td>0.026989</td>\n",
       "      <td>93.826500</td>\n",
       "      <td>1987.000000</td>\n",
       "      <td>834.247400</td>\n",
       "    </tr>\n",
       "    <tr>\n",
       "      <td>50%</td>\n",
       "      <td>12.600000</td>\n",
       "      <td>0.053931</td>\n",
       "      <td>143.012800</td>\n",
       "      <td>1999.000000</td>\n",
       "      <td>1794.331000</td>\n",
       "    </tr>\n",
       "    <tr>\n",
       "      <td>75%</td>\n",
       "      <td>16.850000</td>\n",
       "      <td>0.094585</td>\n",
       "      <td>185.643700</td>\n",
       "      <td>2004.000000</td>\n",
       "      <td>3101.296400</td>\n",
       "    </tr>\n",
       "    <tr>\n",
       "      <td>max</td>\n",
       "      <td>21.350000</td>\n",
       "      <td>0.328391</td>\n",
       "      <td>266.888400</td>\n",
       "      <td>2009.000000</td>\n",
       "      <td>13086.964800</td>\n",
       "    </tr>\n",
       "  </tbody>\n",
       "</table>\n",
       "</div>"
      ],
      "text/plain": [
       "       Item_Weight  Item_Visibility     Item_MRP  Outlet_Establishment_Year  \\\n",
       "count  7060.000000      8523.000000  8523.000000                8523.000000   \n",
       "mean     12.857645         0.066132   140.992782                1997.831867   \n",
       "std       4.643456         0.051598    62.275067                   8.371760   \n",
       "min       4.555000         0.000000    31.290000                1985.000000   \n",
       "25%       8.773750         0.026989    93.826500                1987.000000   \n",
       "50%      12.600000         0.053931   143.012800                1999.000000   \n",
       "75%      16.850000         0.094585   185.643700                2004.000000   \n",
       "max      21.350000         0.328391   266.888400                2009.000000   \n",
       "\n",
       "       Item_Outlet_Sales  \n",
       "count        8523.000000  \n",
       "mean         2181.288914  \n",
       "std          1706.499616  \n",
       "min            33.290000  \n",
       "25%           834.247400  \n",
       "50%          1794.331000  \n",
       "75%          3101.296400  \n",
       "max         13086.964800  "
      ]
     },
     "execution_count": 12,
     "metadata": {},
     "output_type": "execute_result"
    }
   ],
   "source": [
    "df.describe()"
   ]
  },
  {
   "cell_type": "code",
   "execution_count": 15,
   "metadata": {},
   "outputs": [
    {
     "data": {
      "text/plain": [
       "Item_Outlet_Sales            1.000000\n",
       "Item_MRP                     0.567574\n",
       "Item_Weight                  0.014123\n",
       "Outlet_Establishment_Year   -0.049135\n",
       "Item_Visibility             -0.128625\n",
       "Name: Item_Outlet_Sales, dtype: float64"
      ]
     },
     "execution_count": 15,
     "metadata": {},
     "output_type": "execute_result"
    }
   ],
   "source": [
    "df.corr()['Item_Outlet_Sales'].sort_values(ascending = False)"
   ]
  },
  {
   "cell_type": "code",
   "execution_count": 16,
   "metadata": {},
   "outputs": [
    {
     "data": {
      "text/html": [
       "<div>\n",
       "<style scoped>\n",
       "    .dataframe tbody tr th:only-of-type {\n",
       "        vertical-align: middle;\n",
       "    }\n",
       "\n",
       "    .dataframe tbody tr th {\n",
       "        vertical-align: top;\n",
       "    }\n",
       "\n",
       "    .dataframe thead th {\n",
       "        text-align: right;\n",
       "    }\n",
       "</style>\n",
       "<table border=\"1\" class=\"dataframe\">\n",
       "  <thead>\n",
       "    <tr style=\"text-align: right;\">\n",
       "      <th></th>\n",
       "      <th>Item_Weight</th>\n",
       "      <th>Item_Visibility</th>\n",
       "      <th>Item_MRP</th>\n",
       "      <th>Outlet_Establishment_Year</th>\n",
       "      <th>Item_Outlet_Sales</th>\n",
       "    </tr>\n",
       "  </thead>\n",
       "  <tbody>\n",
       "    <tr>\n",
       "      <td>Item_Weight</td>\n",
       "      <td>1.000000</td>\n",
       "      <td>-0.014048</td>\n",
       "      <td>0.027141</td>\n",
       "      <td>-0.011588</td>\n",
       "      <td>0.014123</td>\n",
       "    </tr>\n",
       "    <tr>\n",
       "      <td>Item_Visibility</td>\n",
       "      <td>-0.014048</td>\n",
       "      <td>1.000000</td>\n",
       "      <td>-0.001315</td>\n",
       "      <td>-0.074834</td>\n",
       "      <td>-0.128625</td>\n",
       "    </tr>\n",
       "    <tr>\n",
       "      <td>Item_MRP</td>\n",
       "      <td>0.027141</td>\n",
       "      <td>-0.001315</td>\n",
       "      <td>1.000000</td>\n",
       "      <td>0.005020</td>\n",
       "      <td>0.567574</td>\n",
       "    </tr>\n",
       "    <tr>\n",
       "      <td>Outlet_Establishment_Year</td>\n",
       "      <td>-0.011588</td>\n",
       "      <td>-0.074834</td>\n",
       "      <td>0.005020</td>\n",
       "      <td>1.000000</td>\n",
       "      <td>-0.049135</td>\n",
       "    </tr>\n",
       "    <tr>\n",
       "      <td>Item_Outlet_Sales</td>\n",
       "      <td>0.014123</td>\n",
       "      <td>-0.128625</td>\n",
       "      <td>0.567574</td>\n",
       "      <td>-0.049135</td>\n",
       "      <td>1.000000</td>\n",
       "    </tr>\n",
       "  </tbody>\n",
       "</table>\n",
       "</div>"
      ],
      "text/plain": [
       "                           Item_Weight  Item_Visibility  Item_MRP  \\\n",
       "Item_Weight                   1.000000        -0.014048  0.027141   \n",
       "Item_Visibility              -0.014048         1.000000 -0.001315   \n",
       "Item_MRP                      0.027141        -0.001315  1.000000   \n",
       "Outlet_Establishment_Year    -0.011588        -0.074834  0.005020   \n",
       "Item_Outlet_Sales             0.014123        -0.128625  0.567574   \n",
       "\n",
       "                           Outlet_Establishment_Year  Item_Outlet_Sales  \n",
       "Item_Weight                                -0.011588           0.014123  \n",
       "Item_Visibility                            -0.074834          -0.128625  \n",
       "Item_MRP                                    0.005020           0.567574  \n",
       "Outlet_Establishment_Year                   1.000000          -0.049135  \n",
       "Item_Outlet_Sales                          -0.049135           1.000000  "
      ]
     },
     "execution_count": 16,
     "metadata": {},
     "output_type": "execute_result"
    }
   ],
   "source": [
    "df.corr()"
   ]
  },
  {
   "cell_type": "code",
   "execution_count": 12,
   "metadata": {},
   "outputs": [
    {
     "name": "stdout",
     "output_type": "stream",
     "text": [
      "Item_Identifier :- 1559\n",
      "Item_Fat_Content :- 2\n",
      "Item_Type :- 16\n",
      "Outlet_Identifier :- 10\n",
      "Outlet_Size :- 3\n",
      "Outlet_Location_Type :- 3\n",
      "Outlet_Type :- 4\n"
     ]
    }
   ],
   "source": [
    "for i in df.dtypes[df.dtypes == 'object'].index:\n",
    "    print(i, ':-', df[i].nunique())"
   ]
  },
  {
   "cell_type": "code",
   "execution_count": 34,
   "metadata": {},
   "outputs": [
    {
     "name": "stdout",
     "output_type": "stream",
     "text": [
      "<class 'pandas.core.frame.DataFrame'>\n",
      "RangeIndex: 8523 entries, 0 to 8522\n",
      "Data columns (total 13 columns):\n",
      "Item_Identifier              8523 non-null object\n",
      "Item_Weight                  8523 non-null float64\n",
      "Item_Fat_Content             8523 non-null object\n",
      "Item_Visibility              8523 non-null float64\n",
      "Item_Type                    8523 non-null object\n",
      "Item_MRP                     8523 non-null float64\n",
      "Outlet_Identifier            8523 non-null object\n",
      "Outlet_Establishment_Year    8523 non-null int64\n",
      "Outlet_Size                  8523 non-null object\n",
      "Outlet_Location_Type         8523 non-null object\n",
      "Outlet_Type                  8523 non-null object\n",
      "Item_Outlet_Sales            8523 non-null float64\n",
      "Store_running_from           8523 non-null int64\n",
      "dtypes: float64(4), int64(2), object(7)\n",
      "memory usage: 632.6+ KB\n"
     ]
    }
   ],
   "source": [
    "df.info()"
   ]
  },
  {
   "cell_type": "markdown",
   "metadata": {},
   "source": [
    "## Univariate analysis"
   ]
  },
  {
   "cell_type": "markdown",
   "metadata": {},
   "source": [
    "#### 1. Item_Identifier"
   ]
  },
  {
   "cell_type": "code",
   "execution_count": 19,
   "metadata": {},
   "outputs": [
    {
     "name": "stdout",
     "output_type": "stream",
     "text": [
      "['FDA15' 'DRC01' 'FDN15' ... 'NCF55' 'NCW30' 'NCW05']\n",
      "1559\n"
     ]
    }
   ],
   "source": [
    "print(df['Item_Identifier'].unique())\n",
    "print(df['Item_Identifier'].nunique())"
   ]
  },
  {
   "cell_type": "code",
   "execution_count": 11,
   "metadata": {},
   "outputs": [
    {
     "data": {
      "text/plain": [
       "FDG33    10\n",
       "FDW13    10\n",
       "FDF52     9\n",
       "FDP25     9\n",
       "FDQ40     9\n",
       "         ..\n",
       "DRF48     1\n",
       "FDO33     1\n",
       "FDY43     1\n",
       "FDQ60     1\n",
       "FDT35     1\n",
       "Name: Item_Identifier, Length: 1559, dtype: int64"
      ]
     },
     "execution_count": 11,
     "metadata": {},
     "output_type": "execute_result"
    }
   ],
   "source": [
    "df['Item_Identifier'].value_counts().sort_values(ascending = False)"
   ]
  },
  {
   "cell_type": "code",
   "execution_count": null,
   "metadata": {},
   "outputs": [],
   "source": []
  },
  {
   "cell_type": "markdown",
   "metadata": {},
   "source": [
    "#### 2.Item_Fat_Content"
   ]
  },
  {
   "cell_type": "code",
   "execution_count": 24,
   "metadata": {},
   "outputs": [
    {
     "data": {
      "text/plain": [
       "<matplotlib.axes._subplots.AxesSubplot at 0x1050bcd0>"
      ]
     },
     "execution_count": 24,
     "metadata": {},
     "output_type": "execute_result"
    },
    {
     "data": {
      "image/png": "[encoded data removed]",
      "text/plain": [
       "<Figure size 432x288 with 1 Axes>"
      ]
     },
     "metadata": {},
     "output_type": "display_data"
    }
   ],
   "source": [
    "sns.countplot(df['Item_Fat_Content'])"
   ]
  },
  {
   "cell_type": "code",
   "execution_count": 25,
   "metadata": {},
   "outputs": [
    {
     "data": {
      "text/plain": [
       "Low Fat    5089\n",
       "Regular    2889\n",
       "LF          316\n",
       "reg         117\n",
       "low fat     112\n",
       "Name: Item_Fat_Content, dtype: int64"
      ]
     },
     "execution_count": 25,
     "metadata": {},
     "output_type": "execute_result"
    }
   ],
   "source": [
    "df['Item_Fat_Content'].value_counts()"
   ]
  },
  {
   "cell_type": "code",
   "execution_count": 43,
   "metadata": {},
   "outputs": [
    {
     "name": "stdout",
     "output_type": "stream",
     "text": [
      "FDO50 ['LF' 'low fat' 'Low Fat']\n",
      "FDH57 ['Low Fat' 'LF']\n",
      "FDA04 ['Regular' 'reg']\n",
      "FDE35 ['Regular' 'reg']\n",
      "FDZ48 ['LF' 'low fat' 'Low Fat']\n",
      "FDN21 ['LF' 'Low Fat']\n",
      "FDU19 ['Regular' 'reg']\n",
      "FDT36 ['Low Fat' 'LF']\n",
      "FDD38 ['Regular' 'reg']\n",
      "FDW08 ['LF' 'Low Fat']\n",
      "FDX39 ['Regular' 'reg']\n",
      "FDZ26 ['Regular' 'reg']\n",
      "FDB60 ['Low Fat' 'low fat']\n",
      "FDR44 ['Regular' 'reg']\n",
      "FDD32 ['Regular' 'reg']\n",
      "FDA23 ['Low Fat' 'LF']\n",
      "FDO24 ['Low Fat' 'low fat']\n",
      "FDD36 ['Low Fat' 'LF']\n",
      "FDH05 ['Regular' 'reg']\n",
      "FDL38 ['Regular' 'reg']\n",
      "FDI14 ['LF' 'Low Fat']\n",
      "NCI18 ['Low Fat' 'LF']\n",
      "NCW54 ['Low Fat' 'low fat']\n",
      "DRK12 ['Low Fat' 'LF']\n",
      "NCM29 ['Low Fat' 'LF']\n",
      "FDJ41 ['Low Fat' 'LF']\n",
      "FDX01 ['LF' 'Low Fat']\n",
      "NCC18 ['Low Fat' 'LF']\n",
      "DRE13 ['Low Fat' 'low fat']\n",
      "FDP09 ['Low Fat' 'LF' 'low fat']\n",
      "DRD12 ['Low Fat' 'LF']\n",
      "NCB19 ['Low Fat' 'LF']\n",
      "NCQ50 ['Low Fat' 'LF']\n",
      "FDB57 ['Regular' 'reg']\n",
      "NCW42 ['LF' 'Low Fat']\n",
      "FDQ13 ['LF' 'Low Fat']\n",
      "FDU56 ['Low Fat' 'LF']\n",
      "NCI17 ['Low Fat' 'low fat']\n",
      "DRH59 ['low fat' 'Low Fat' 'LF']\n",
      "FDG35 ['Regular' 'reg']\n",
      "FDU39 ['Low Fat' 'LF']\n",
      "DRI39 ['Low Fat' 'LF']\n",
      "FDI34 ['Regular' 'reg']\n",
      "NCY29 ['Low Fat' 'low fat']\n",
      "DRD60 ['Low Fat' 'LF']\n",
      "FDS28 ['reg' 'Regular']\n",
      "NCA17 ['LF' 'Low Fat']\n",
      "NCS54 ['Low Fat' 'LF']\n",
      "NCJ54 ['Low Fat' 'LF']\n",
      "FDX58 ['LF' 'Low Fat' 'low fat']\n",
      "FDO10 ['Regular' 'reg']\n",
      "NCQ38 ['Low Fat' 'LF']\n",
      "FDR48 ['LF' 'Low Fat']\n",
      "FDO22 ['Regular' 'reg']\n",
      "DRL11 ['Low Fat' 'low fat' 'LF']\n",
      "FDP27 ['Low Fat' 'LF']\n",
      "NCQ43 ['Low Fat' 'LF']\n",
      "NCM06 ['LF' 'Low Fat']\n",
      "FDY16 ['Regular' 'reg']\n",
      "NCQ30 ['LF' 'Low Fat']\n",
      "FDM08 ['Regular' 'reg']\n",
      "NCN26 ['Low Fat' 'LF']\n",
      "FDQ20 ['Low Fat' 'low fat']\n",
      "FDG26 ['Low Fat' 'low fat']\n",
      "FDV31 ['Low Fat' 'LF']\n",
      "FDW46 ['Regular' 'reg']\n",
      "FDE41 ['Regular' 'reg']\n",
      "NCE06 ['Low Fat' 'LF']\n",
      "FDB23 ['Regular' 'reg']\n",
      "FDG32 ['LF' 'Low Fat' 'low fat']\n",
      "FDT34 ['Low Fat' 'LF']\n",
      "NCX54 ['Low Fat' 'low fat']\n",
      "NCJ05 ['LF' 'Low Fat']\n",
      "FDN01 ['Low Fat' 'LF']\n",
      "FDR28 ['Regular' 'reg']\n",
      "NCB18 ['Low Fat' 'LF']\n",
      "FDB52 ['Low Fat' 'low fat']\n",
      "FDD02 ['LF' 'Low Fat']\n",
      "FDH41 ['Low Fat' 'LF']\n",
      "FDV23 ['Low Fat' 'LF']\n",
      "DRE25 ['Low Fat' 'LF']\n",
      "FDF52 ['Low Fat' 'LF']\n",
      "NCB42 ['Low Fat' 'LF']\n",
      "FDX45 ['Low Fat' 'low fat']\n",
      "FDK26 ['Regular' 'reg']\n",
      "FDU08 ['Low Fat' 'LF']\n",
      "FDI07 ['reg' 'Regular']\n",
      "FDX27 ['Regular' 'reg']\n",
      "FDD51 ['Low Fat' 'low fat' 'LF']\n",
      "FDF20 ['low fat' 'Low Fat']\n",
      "FDS21 ['Regular' 'reg']\n",
      "FDB51 ['Low Fat' 'LF']\n",
      "FDL14 ['reg' 'Regular']\n",
      "DRA12 ['Low Fat' 'LF']\n",
      "NCO43 ['Low Fat' 'LF']\n",
      "NCT41 ['Low Fat' 'LF']\n",
      "FDN44 ['LF' 'Low Fat']\n",
      "FDP24 ['LF' 'Low Fat']\n",
      "FDW25 ['Low Fat' 'LF']\n",
      "FDK38 ['Low Fat' 'low fat']\n",
      "NCK29 ['Low Fat' 'LF']\n",
      "FDD09 ['Low Fat' 'low fat']\n",
      "FDK52 ['Low Fat' 'LF']\n",
      "FDX16 ['LF' 'Low Fat']\n",
      "FDC11 ['LF' 'Low Fat']\n",
      "FDI10 ['reg' 'Regular']\n",
      "FDX43 ['LF' 'Low Fat']\n",
      "FDX24 ['Low Fat' 'low fat' 'LF']\n",
      "NCN18 ['LF' 'Low Fat']\n",
      "FDY27 ['Low Fat' 'LF']\n",
      "FDT48 ['Low Fat' 'LF']\n",
      "FDP25 ['Low Fat' 'low fat']\n",
      "FDS57 ['Low Fat' 'LF']\n",
      "NCJ29 ['Low Fat' 'low fat']\n",
      "FDZ38 ['Low Fat' 'LF']\n",
      "FDP57 ['Low Fat' 'low fat']\n",
      "FDS31 ['Regular' 'reg']\n",
      "NCL31 ['Low Fat' 'LF']\n",
      "FDT50 ['Regular' 'reg']\n",
      "FDU57 ['Regular' 'reg']\n",
      "FDX26 ['Low Fat' 'LF']\n",
      "FDP34 ['LF' 'Low Fat']\n",
      "FDJ56 ['Low Fat' 'LF']\n",
      "FDJ45 ['Low Fat' 'LF' 'low fat']\n",
      "FDP19 ['Low Fat' 'LF']\n",
      "FDI08 ['Regular' 'reg']\n",
      "FDL48 ['Regular' 'reg']\n",
      "FDA33 ['Low Fat' 'LF']\n",
      "FDM20 ['Low Fat' 'LF']\n",
      "FDG56 ['Regular' 'reg']\n",
      "FDU38 ['Low Fat' 'LF']\n",
      "FDA10 ['Low Fat' 'LF']\n",
      "FDS47 ['Low Fat' 'LF']\n",
      "FDD47 ['Regular' 'reg']\n",
      "DRD37 ['Low Fat' 'LF']\n",
      "FDX15 ['Low Fat' 'LF']\n",
      "FDT23 ['Regular' 'reg']\n",
      "NCI31 ['Low Fat' 'low fat']\n",
      "DRF60 ['low fat' 'Low Fat']\n",
      "FDA15 ['Low Fat' 'LF']\n",
      "NCX06 ['Low Fat' 'LF']\n",
      "FDA44 ['Low Fat' 'LF']\n",
      "FDX49 ['reg' 'Regular']\n",
      "NCC43 ['Low Fat' 'low fat']\n",
      "FDK45 ['Low Fat' 'LF']\n",
      "FDX55 ['Low Fat' 'low fat']\n",
      "NCZ17 ['Low Fat' 'LF']\n",
      "NCO42 ['Low Fat' 'LF']\n",
      "FDS52 ['low fat' 'Low Fat']\n",
      "DRM37 ['Low Fat' 'LF']\n",
      "FDJ22 ['Low Fat' 'low fat']\n",
      "FDS13 ['Low Fat' 'LF']\n",
      "FDS34 ['Regular' 'reg']\n",
      "FDQ48 ['Regular' 'reg']\n",
      "FDC15 ['LF' 'Low Fat']\n",
      "FDX50 ['Low Fat' 'LF']\n",
      "NCZ42 ['Low Fat' 'LF']\n",
      "FDF53 ['Regular' 'reg']\n",
      "FDR10 ['Low Fat' 'LF']\n",
      "FDL52 ['Regular' 'reg']\n",
      "FDM56 ['Low Fat' 'low fat']\n",
      "NCG30 ['LF' 'Low Fat']\n",
      "FDS12 ['Low Fat' 'LF']\n",
      "DRD25 ['Low Fat' 'LF']\n",
      "DRE48 ['Low Fat' 'LF']\n",
      "FDY50 ['LF' 'Low Fat']\n",
      "FDV45 ['low fat' 'Low Fat']\n",
      "FDI16 ['Regular' 'reg']\n",
      "FDN13 ['Low Fat' 'LF']\n",
      "FDZ27 ['Low Fat' 'LF']\n",
      "FDN24 ['low fat' 'LF' 'Low Fat']\n",
      "FDZ33 ['Low Fat' 'low fat']\n",
      "NCA30 ['low fat' 'Low Fat']\n",
      "FDX48 ['Regular' 'reg']\n",
      "FDF11 ['Regular' 'reg']\n",
      "NCS42 ['Low Fat' 'low fat']\n",
      "FDE47 ['Low Fat' 'low fat']\n",
      "NCN55 ['Low Fat' 'LF']\n",
      "FDZ07 ['Regular' 'reg']\n",
      "FDB58 ['Regular' 'reg']\n",
      "FDJ32 ['Low Fat' 'LF']\n",
      "FDK14 ['Low Fat' 'LF']\n",
      "DRI25 ['Low Fat' 'LF']\n",
      "FDI19 ['Low Fat' 'low fat']\n",
      "DRI51 ['Low Fat' 'LF']\n",
      "FDV32 ['Low Fat' 'LF']\n",
      "NCZ30 ['Low Fat' 'LF']\n",
      "NCV41 ['Low Fat' 'LF']\n",
      "FDX60 ['Low Fat' 'LF']\n",
      "FDR02 ['Low Fat' 'LF']\n",
      "FDC20 ['LF' 'low fat' 'Low Fat']\n",
      "DRK49 ['Low Fat' 'LF']\n",
      "FDX09 ['Low Fat' 'LF']\n",
      "FDE59 ['Low Fat' 'LF']\n",
      "FDS35 ['LF' 'Low Fat' 'low fat']\n",
      "FDA57 ['LF' 'Low Fat']\n",
      "NCK05 ['Low Fat' 'LF']\n",
      "FDM21 ['Low Fat' 'LF']\n",
      "FDU02 ['Low Fat' 'low fat']\n",
      "FDO49 ['Regular' 'reg']\n",
      "FDM44 ['Low Fat' 'LF' 'low fat']\n",
      "FDU31 ['Regular' 'reg']\n",
      "FDF04 ['Low Fat' 'LF']\n",
      "FDD10 ['Regular' 'reg']\n",
      "FDU25 ['Low Fat' 'LF']\n",
      "NCE43 ['LF' 'Low Fat' 'low fat']\n",
      "NCX30 ['LF' 'Low Fat']\n",
      "FDD39 ['Low Fat' 'low fat']\n",
      "FDH26 ['Regular' 'reg']\n",
      "DRF36 ['LF' 'Low Fat']\n",
      "FDH58 ['Low Fat' 'low fat']\n",
      "FDY55 ['Low Fat' 'LF']\n",
      "DRH03 ['Low Fat' 'low fat']\n",
      "FDS24 ['Regular' 'reg']\n",
      "FDC46 ['LF' 'Low Fat']\n",
      "NCD19 ['Low Fat' 'LF']\n",
      "FDI04 ['Regular' 'reg']\n",
      "DRL47 ['Low Fat' 'LF']\n",
      "FDV25 ['Low Fat' 'low fat']\n",
      "NCS05 ['Low Fat' 'low fat']\n",
      "DRE60 ['low fat' 'Low Fat']\n",
      "FDY21 ['Low Fat' 'LF']\n",
      "DRL35 ['Low Fat' 'low fat']\n",
      "FDF56 ['Regular' 'reg']\n",
      "NCU53 ['Low Fat' 'low fat']\n",
      "FDW28 ['Low Fat' 'low fat' 'LF']\n",
      "FDE58 ['Low Fat' 'LF']\n",
      "NCF55 ['LF' 'Low Fat']\n",
      "FDB45 ['Low Fat' 'LF']\n",
      "FDY57 ['Regular' 'reg']\n",
      "FDT10 ['Regular' 'reg']\n",
      "NCZ18 ['low fat' 'Low Fat']\n",
      "FDJ48 ['Low Fat' 'LF']\n",
      "NCU41 ['Low Fat' 'LF']\n",
      "NCP29 ['Low Fat' 'LF']\n",
      "DRC49 ['LF' 'Low Fat']\n",
      "FDK40 ['Low Fat' 'LF']\n",
      "FDR36 ['Regular' 'reg']\n",
      "NCD07 ['Low Fat' 'LF']\n",
      "FDL46 ['Low Fat' 'low fat']\n",
      "DRQ35 ['Low Fat' 'low fat']\n",
      "FDC59 ['Regular' 'reg']\n",
      "NCM30 ['LF' 'Low Fat']\n",
      "NCE07 ['Low Fat' 'low fat']\n",
      "NCJ30 ['Low Fat' 'LF' 'low fat']\n",
      "FDQ12 ['Low Fat' 'LF']\n",
      "FDK48 ['low fat' 'Low Fat']\n",
      "FDA52 ['Regular' 'reg']\n",
      "FDV03 ['Low Fat' 'LF']\n",
      "FDX25 ['Low Fat' 'LF']\n",
      "FDV47 ['Low Fat' 'low fat']\n",
      "DRK37 ['Low Fat' 'LF']\n",
      "DRF15 ['Low Fat' 'LF']\n",
      "FDV15 ['Low Fat' 'LF']\n",
      "FDI41 ['Regular' 'reg']\n",
      "FDF10 ['Regular' 'reg']\n",
      "FDE53 ['LF' 'Low Fat']\n",
      "FDN51 ['reg' 'Regular']\n",
      "NCA29 ['Low Fat' 'LF']\n",
      "NCX05 ['Low Fat' 'LF']\n",
      "FDA11 ['LF' 'low fat' 'Low Fat']\n",
      "FDU13 ['Low Fat' 'low fat']\n",
      "NCF18 ['Low Fat' 'LF']\n",
      "FDY31 ['Low Fat' 'LF']\n",
      "FDL22 ['Low Fat' 'low fat']\n",
      "FDI45 ['LF' 'Low Fat']\n",
      "DRD49 ['Low Fat' 'LF']\n",
      "NCL53 ['Low Fat' 'LF']\n",
      "NCD31 ['Low Fat' 'LF']\n",
      "FDT07 ['Regular' 'reg']\n",
      "FDM39 ['LF' 'Low Fat' 'low fat']\n",
      "FDA55 ['reg' 'Regular']\n",
      "NCC31 ['Low Fat' 'LF']\n",
      "FDQ16 ['LF' 'Low Fat']\n",
      "DRC36 ['Regular' 'reg']\n",
      "DRE49 ['Low Fat' 'LF']\n",
      "FDY26 ['reg' 'Regular']\n",
      "FDZ04 ['low fat' 'Low Fat']\n",
      "FDV39 ['Low Fat' 'LF']\n",
      "FDA32 ['Low Fat' 'LF']\n",
      "FDH28 ['Regular' 'reg']\n",
      "NCV29 ['Low Fat' 'LF']\n",
      "FDK41 ['Low Fat' 'LF']\n",
      "FDV16 ['Regular' 'reg']\n",
      "FDC17 ['Low Fat' 'LF']\n",
      "NCO06 ['Low Fat' 'LF']\n",
      "NCR50 ['Low Fat' 'LF']\n",
      "FDT26 ['Regular' 'reg']\n",
      "NCQ17 ['LF' 'Low Fat']\n",
      "DRL60 ['Low Fat' 'LF']\n",
      "FDH21 ['Low Fat' 'LF']\n",
      "DRF49 ['Low Fat' 'LF']\n",
      "NCR54 ['Low Fat' 'low fat']\n",
      "FDU21 ['Regular' 'reg']\n",
      "FDH45 ['reg' 'Regular']\n",
      "FDT24 ['reg' 'Regular']\n",
      "FDM01 ['reg' 'Regular']\n",
      "FDP56 ['LF' 'Low Fat' 'low fat']\n",
      "DRE37 ['Low Fat' 'LF']\n",
      "FDD46 ['Low Fat' 'low fat' 'LF']\n",
      "FDV49 ['Low Fat' 'low fat']\n",
      "FDF59 ['LF' 'Low Fat']\n",
      "FDW11 ['Low Fat' 'low fat']\n",
      "NCY06 ['Low Fat' 'LF']\n",
      "NCP55 ['Low Fat' 'low fat']\n",
      "FDO40 ['Low Fat' 'LF']\n",
      "NCT17 ['Low Fat' 'LF']\n",
      "DRO35 ['Low Fat' 'LF']\n",
      "FDH44 ['Regular' 'reg']\n",
      "DRH11 ['Low Fat' 'LF']\n",
      "FDD14 ['Low Fat' 'LF']\n",
      "DRF27 ['Low Fat' 'low fat']\n",
      "FDO38 ['Low Fat' 'low fat']\n",
      "FDA50 ['Low Fat' 'LF']\n",
      "FDV59 ['Low Fat' 'LF']\n",
      "FDI40 ['reg' 'Regular']\n",
      "NCI54 ['Low Fat' 'LF' 'low fat']\n",
      "FDF45 ['Regular' 'reg']\n",
      "FDW01 ['Low Fat' 'LF']\n",
      "NCJ18 ['Low Fat' 'LF']\n",
      "NCC54 ['Low Fat' 'LF']\n",
      "NCS30 ['Low Fat' 'LF']\n",
      "NCY41 ['Low Fat' 'LF' 'low fat']\n",
      "FDY14 ['Low Fat' 'LF']\n",
      "NCQ53 ['Low Fat' 'low fat']\n",
      "FDH33 ['Low Fat' 'LF']\n",
      "FDE29 ['LF' 'Low Fat']\n",
      "FDU35 ['Low Fat' 'low fat']\n",
      "FDA39 ['LF' 'Low Fat']\n",
      "FDZ59 ['Regular' 'reg']\n",
      "FDB39 ['Low Fat' 'LF']\n"
     ]
    },
    {
     "name": "stdout",
     "output_type": "stream",
     "text": [
      "FDW13 ['Low Fat' 'low fat']\n",
      "FDN12 ['LF' 'Low Fat']\n",
      "DRF37 ['Low Fat' 'low fat']\n",
      "FDH60 ['Regular' 'reg']\n",
      "NCM18 ['Low Fat' 'LF']\n",
      "FDX10 ['Regular' 'reg']\n",
      "NCF30 ['Low Fat' 'LF']\n",
      "FDJ09 ['Low Fat' 'low fat']\n",
      "FDQ21 ['Low Fat' 'low fat']\n",
      "FDC29 ['Regular' 'reg']\n",
      "FDW24 ['Low Fat' 'low fat']\n",
      "FDD35 ['Low Fat' 'LF']\n",
      "DRJ59 ['low fat' 'Low Fat']\n",
      "NCD06 ['Low Fat' 'low fat']\n",
      "FDW49 ['Low Fat' 'LF']\n",
      "FDQ19 ['Regular' 'reg']\n",
      "NCO55 ['Low Fat' 'LF']\n",
      "NCT05 ['Low Fat' 'LF']\n",
      "NCQ05 ['LF' 'Low Fat']\n",
      "FDW36 ['Low Fat' 'LF']\n",
      "NCM26 ['LF' 'Low Fat']\n",
      "DRG36 ['low fat' 'Low Fat' 'LF']\n",
      "FDW04 ['Regular' 'reg']\n",
      "DRK11 ['Low Fat' 'low fat']\n",
      "NCP06 ['Low Fat' 'LF']\n",
      "FDI44 ['Low Fat' 'LF']\n",
      "FDM12 ['reg' 'Regular']\n",
      "FDY11 ['Regular' 'reg']\n",
      "NCM54 ['Low Fat' 'LF']\n",
      "NCJ31 ['Low Fat' 'LF']\n",
      "FDR47 ['LF' 'Low Fat']\n",
      "NCE42 ['Low Fat' 'low fat']\n",
      "DRK59 ['LF' 'Low Fat' 'low fat']\n",
      "FDW12 ['Regular' 'reg']\n",
      "DRF01 ['Low Fat' 'LF']\n",
      "NCX53 ['LF' 'Low Fat']\n",
      "FDO60 ['LF' 'Low Fat']\n",
      "NCQ06 ['Low Fat' 'LF']\n",
      "DRJ01 ['Low Fat' 'low fat']\n",
      "NCT53 ['low fat' 'Low Fat']\n",
      "FDW35 ['low fat' 'Low Fat' 'LF']\n",
      "NCY30 ['Low Fat' 'LF']\n",
      "NCA53 ['low fat' 'Low Fat']\n",
      "FDA31 ['Low Fat' 'LF']\n",
      "FDU23 ['Low Fat' 'LF']\n",
      "FDR39 ['LF' 'Low Fat']\n",
      "FDV21 ['Low Fat' 'LF']\n",
      "FDR21 ['Low Fat' 'LF']\n",
      "NCO54 ['Low Fat' 'low fat' 'LF']\n",
      "FDY13 ['Low Fat' 'LF']\n",
      "FDD57 ['Low Fat' 'LF' 'low fat']\n",
      "FDV38 ['Low Fat' 'LF']\n",
      "NCX29 ['Low Fat' 'LF']\n",
      "FDW56 ['Low Fat' 'LF']\n",
      "FDD20 ['Low Fat' 'LF']\n",
      "FDF58 ['LF' 'Low Fat']\n",
      "FDW31 ['Regular' 'reg']\n",
      "NCU54 ['Low Fat' 'LF']\n",
      "FDM58 ['Regular' 'reg']\n",
      "FDD11 ['Low Fat' 'LF']\n",
      "NCN53 ['Low Fat' 'LF']\n",
      "DRJ13 ['LF' 'Low Fat']\n",
      "FDQ23 ['Low Fat' 'low fat']\n",
      "FDP33 ['Low Fat' 'LF']\n",
      "FDX20 ['Low Fat' 'LF']\n",
      "FDX02 ['Low Fat' 'LF']\n",
      "FDA19 ['Low Fat' 'LF']\n",
      "FDW09 ['reg' 'Regular']\n",
      "FDR55 ['reg' 'Regular']\n",
      "FDE33 ['Regular' 'reg']\n",
      "FDG24 ['Low Fat' 'LF']\n",
      "FDG14 ['Regular' 'reg']\n",
      "FDJ16 ['LF' 'Low Fat']\n",
      "NCS29 ['Low Fat' 'LF']\n",
      "FDO31 ['reg' 'Regular']\n",
      "DRM35 ['Low Fat' 'LF']\n",
      "FDQ34 ['Low Fat' 'LF']\n",
      "DRG37 ['Low Fat' 'LF']\n",
      "DRN37 ['Low Fat' 'LF' 'low fat']\n",
      "FDD45 ['low fat' 'Low Fat']\n",
      "FDP52 ['Regular' 'reg']\n",
      "FDB20 ['Low Fat' 'LF']\n",
      "FDK36 ['Low Fat' 'LF']\n",
      "FDB50 ['Low Fat' 'LF']\n",
      "NCJ19 ['LF' 'Low Fat']\n",
      "NCH18 ['Low Fat' 'LF']\n",
      "FDU34 ['Low Fat' 'LF']\n",
      "FDT20 ['Low Fat' 'LF']\n",
      "FDQ14 ['Low Fat' 'LF' 'low fat']\n",
      "FDC10 ['Regular' 'reg']\n",
      "FDS51 ['Low Fat' 'LF']\n",
      "FDN58 ['Regular' 'reg']\n",
      "FDW58 ['LF' 'Low Fat']\n",
      "NCY05 ['Low Fat' 'LF']\n",
      "FDI20 ['Low Fat' 'LF']\n",
      "FDX21 ['LF' 'Low Fat']\n",
      "FDM15 ['Regular' 'reg']\n",
      "FDC03 ['reg' 'Regular']\n",
      "NCN30 ['Low Fat' 'LF']\n",
      "FDT08 ['Low Fat' 'LF']\n",
      "FDA49 ['Low Fat' 'LF']\n",
      "FDD58 ['Low Fat' 'LF']\n",
      "NCD54 ['Low Fat' 'low fat']\n",
      "FDB11 ['Low Fat' 'LF']\n",
      "FDT02 ['Low Fat' 'LF']\n",
      "FDT40 ['Low Fat' 'LF']\n",
      "FDN50 ['Regular' 'reg']\n",
      "FDB26 ['reg' 'Regular']\n",
      "NCK42 ['Low Fat' 'LF']\n",
      "FDF24 ['Regular' 'reg']\n",
      "FDA46 ['Low Fat' 'low fat']\n",
      "DRM59 ['Low Fat' 'LF']\n",
      "FDF57 ['Regular' 'reg']\n",
      "FDW57 ['Regular' 'reg']\n",
      "FDE02 ['low fat' 'Low Fat']\n",
      "FDN09 ['Low Fat' 'LF' 'low fat']\n",
      "FDR15 ['Regular' 'reg']\n",
      "FDX57 ['Regular' 'reg']\n",
      "FDU24 ['Regular' 'reg']\n",
      "FDF33 ['LF' 'Low Fat']\n",
      "FDT39 ['Regular' 'reg']\n",
      "FDN04 ['reg' 'Regular']\n",
      "FDD17 ['Low Fat' 'LF']\n",
      "FDY47 ['Regular' 'reg']\n",
      "FDH47 ['Regular' 'reg']\n",
      "DRH39 ['Low Fat' 'low fat']\n"
     ]
    }
   ],
   "source": [
    "for i in set(df['Item_Identifier']):\n",
    "    if df[df['Item_Identifier'] == i]['Item_Fat_Content'].nunique() > 1:\n",
    "        print(i, df[df['Item_Identifier'] == i]['Item_Fat_Content'].unique())"
   ]
  },
  {
   "cell_type": "markdown",
   "metadata": {},
   "source": [
    "#### Same item can't bi diff - diff fat type it looks like data entry mistake problem"
   ]
  },
  {
   "cell_type": "code",
   "execution_count": 3,
   "metadata": {},
   "outputs": [],
   "source": [
    "df['Item_Fat_Content'].replace(['LF', 'low fat'], 'Low Fat', inplace = True)\n",
    "df['Item_Fat_Content'].replace('reg', 'Regular', inplace = True)"
   ]
  },
  {
   "cell_type": "code",
   "execution_count": 4,
   "metadata": {},
   "outputs": [
    {
     "data": {
      "text/plain": [
       "<matplotlib.axes._subplots.AxesSubplot at 0xdd0a6d0>"
      ]
     },
     "execution_count": 4,
     "metadata": {},
     "output_type": "execute_result"
    },
    {
     "data": {
      "image/png": "[encoded data removed]",
      "text/plain": [
       "<Figure size 432x288 with 1 Axes>"
      ]
     },
     "metadata": {
      "needs_background": "light"
     },
     "output_type": "display_data"
    }
   ],
   "source": [
    "sns.countplot(df['Item_Fat_Content'])"
   ]
  },
  {
   "cell_type": "markdown",
   "metadata": {},
   "source": [
    "#### 3.Item_Type"
   ]
  },
  {
   "cell_type": "code",
   "execution_count": 30,
   "metadata": {},
   "outputs": [
    {
     "data": {
      "text/plain": [
       "16"
      ]
     },
     "execution_count": 30,
     "metadata": {},
     "output_type": "execute_result"
    }
   ],
   "source": [
    "df['Item_Type'].nunique()"
   ]
  },
  {
   "cell_type": "code",
   "execution_count": 29,
   "metadata": {},
   "outputs": [
    {
     "data": {
      "text/plain": [
       "<matplotlib.axes._subplots.AxesSubplot at 0x12d59db0>"
      ]
     },
     "execution_count": 29,
     "metadata": {},
     "output_type": "execute_result"
    },
    {
     "data": {
      "image/png": "[encoded data removed]",
      "text/plain": [
       "<Figure size 432x288 with 1 Axes>"
      ]
     },
     "metadata": {},
     "output_type": "display_data"
    }
   ],
   "source": [
    "plt.xticks(rotation = 90)\n",
    "sns.countplot(df['Item_Type'])"
   ]
  },
  {
   "cell_type": "markdown",
   "metadata": {},
   "source": [
    "#### 4. Outlet_Identifier"
   ]
  },
  {
   "cell_type": "code",
   "execution_count": 37,
   "metadata": {},
   "outputs": [
    {
     "data": {
      "text/plain": [
       "10"
      ]
     },
     "execution_count": 37,
     "metadata": {},
     "output_type": "execute_result"
    }
   ],
   "source": [
    "df['Outlet_Identifier'].nunique()"
   ]
  },
  {
   "cell_type": "code",
   "execution_count": 42,
   "metadata": {},
   "outputs": [
    {
     "data": {
      "text/plain": [
       "<matplotlib.axes._subplots.AxesSubplot at 0x12ea2550>"
      ]
     },
     "execution_count": 42,
     "metadata": {},
     "output_type": "execute_result"
    },
    {
     "data": {
      "image/png": "[encoded data removed]",
      "text/plain": [
       "<Figure size 432x288 with 1 Axes>"
      ]
     },
     "metadata": {},
     "output_type": "display_data"
    }
   ],
   "source": [
    "plt.xticks(rotation = 90)\n",
    "sns.countplot(df['Outlet_Identifier'])"
   ]
  },
  {
   "cell_type": "code",
   "execution_count": 43,
   "metadata": {},
   "outputs": [
    {
     "data": {
      "text/plain": [
       "OUT027    935\n",
       "OUT013    932\n",
       "OUT049    930\n",
       "OUT035    930\n",
       "OUT046    930\n",
       "OUT045    929\n",
       "OUT018    928\n",
       "OUT017    926\n",
       "OUT010    555\n",
       "OUT019    528\n",
       "Name: Outlet_Identifier, dtype: int64"
      ]
     },
     "execution_count": 43,
     "metadata": {},
     "output_type": "execute_result"
    }
   ],
   "source": [
    "df['Outlet_Identifier'].value_counts()"
   ]
  },
  {
   "cell_type": "markdown",
   "metadata": {},
   "source": [
    "#### 5.Outlet_Establishment_Year"
   ]
  },
  {
   "cell_type": "code",
   "execution_count": 8,
   "metadata": {},
   "outputs": [
    {
     "name": "stdout",
     "output_type": "stream",
     "text": [
      "OUT049 [1999]\n",
      "OUT018 [2009]\n",
      "OUT010 [1998]\n",
      "OUT013 [1987]\n",
      "OUT027 [1985]\n",
      "OUT045 [2002]\n",
      "OUT017 [2007]\n",
      "OUT046 [1997]\n",
      "OUT035 [2004]\n",
      "OUT019 [1985]\n"
     ]
    }
   ],
   "source": [
    "for i in df[ 'Outlet_Identifier'].unique():\n",
    "    print(i, df[df['Outlet_Identifier'] == i]['Outlet_Establishment_Year'].unique())"
   ]
  },
  {
   "cell_type": "code",
   "execution_count": 9,
   "metadata": {},
   "outputs": [
    {
     "data": {
      "text/plain": [
       "10"
      ]
     },
     "execution_count": 9,
     "metadata": {},
     "output_type": "execute_result"
    }
   ],
   "source": [
    "df[ 'Outlet_Identifier'].nunique()"
   ]
  },
  {
   "cell_type": "markdown",
   "metadata": {},
   "source": [
    "#### 6. Outlet Type"
   ]
  },
  {
   "cell_type": "code",
   "execution_count": 13,
   "metadata": {},
   "outputs": [
    {
     "data": {
      "text/plain": [
       "Supermarket Type1    5577\n",
       "Grocery Store        1083\n",
       "Supermarket Type3     935\n",
       "Supermarket Type2     928\n",
       "Name: Outlet_Type, dtype: int64"
      ]
     },
     "execution_count": 13,
     "metadata": {},
     "output_type": "execute_result"
    }
   ],
   "source": [
    "df['Outlet_Type'].value_counts()"
   ]
  },
  {
   "cell_type": "markdown",
   "metadata": {},
   "source": [
    "#### 7. Outlet_Size"
   ]
  },
  {
   "cell_type": "code",
   "execution_count": 15,
   "metadata": {},
   "outputs": [
    {
     "data": {
      "text/plain": [
       "Medium    2793\n",
       "Small     2388\n",
       "High       932\n",
       "Name: Outlet_Size, dtype: int64"
      ]
     },
     "execution_count": 15,
     "metadata": {},
     "output_type": "execute_result"
    }
   ],
   "source": [
    "df['Outlet_Size'].value_counts()"
   ]
  },
  {
   "cell_type": "markdown",
   "metadata": {},
   "source": [
    "#### 8.Outlet_Location_Type"
   ]
  },
  {
   "cell_type": "code",
   "execution_count": 16,
   "metadata": {},
   "outputs": [
    {
     "data": {
      "text/plain": [
       "Tier 3    3350\n",
       "Tier 2    2785\n",
       "Tier 1    2388\n",
       "Name: Outlet_Location_Type, dtype: int64"
      ]
     },
     "execution_count": 16,
     "metadata": {},
     "output_type": "execute_result"
    }
   ],
   "source": [
    "df['Outlet_Location_Type'].value_counts()"
   ]
  },
  {
   "cell_type": "markdown",
   "metadata": {},
   "source": [
    "#### 9. Item_Outlet_Sale"
   ]
  },
  {
   "cell_type": "code",
   "execution_count": 21,
   "metadata": {},
   "outputs": [
    {
     "data": {
      "image/png": "[encoded data removed]",
      "text/plain": [
       "<Figure size 432x288 with 1 Axes>"
      ]
     },
     "metadata": {
      "needs_background": "light"
     },
     "output_type": "display_data"
    }
   ],
   "source": [
    "ax = plt.hist(df['Item_Outlet_Sales'])"
   ]
  },
  {
   "cell_type": "code",
   "execution_count": 18,
   "metadata": {},
   "outputs": [
    {
     "data": {
      "text/plain": [
       "<matplotlib.axes._subplots.AxesSubplot at 0x4415bf0>"
      ]
     },
     "execution_count": 18,
     "metadata": {},
     "output_type": "execute_result"
    },
    {
     "data": {
      "image/png": "[encoded data removed]",
      "text/plain": [
       "<Figure size 432x288 with 1 Axes>"
      ]
     },
     "metadata": {
      "needs_background": "light"
     },
     "output_type": "display_data"
    }
   ],
   "source": [
    "sns.distplot(df['Item_Outlet_Sales'])"
   ]
  },
  {
   "cell_type": "code",
   "execution_count": 25,
   "metadata": {},
   "outputs": [
    {
     "data": {
      "text/plain": [
       "<matplotlib.axes._subplots.AxesSubplot at 0x45a5f50>"
      ]
     },
     "execution_count": 25,
     "metadata": {},
     "output_type": "execute_result"
    },
    {
     "data": {
      "image/png": "[encoded data removed]",
      "text/plain": [
       "<Figure size 432x288 with 1 Axes>"
      ]
     },
     "metadata": {
      "needs_background": "light"
     },
     "output_type": "display_data"
    }
   ],
   "source": [
    "sns.distplot(df['Item_Outlet_Sales'], rug = True, hist = False)"
   ]
  },
  {
   "cell_type": "code",
   "execution_count": 28,
   "metadata": {},
   "outputs": [
    {
     "data": {
      "text/plain": [
       "<matplotlib.axes._subplots.AxesSubplot at 0x10f8d650>"
      ]
     },
     "execution_count": 28,
     "metadata": {},
     "output_type": "execute_result"
    },
    {
     "data": {
      "image/png": "[encoded data removed]",
      "text/plain": [
       "<Figure size 432x288 with 1 Axes>"
      ]
     },
     "metadata": {
      "needs_background": "light"
     },
     "output_type": "display_data"
    }
   ],
   "source": [
    "sns.distplot(df[df['Item_Outlet_Sales']<2000]['Item_Outlet_Sales'], bins = 40)"
   ]
  },
  {
   "cell_type": "code",
   "execution_count": 29,
   "metadata": {},
   "outputs": [
    {
     "data": {
      "text/plain": [
       "<matplotlib.axes._subplots.AxesSubplot at 0x10fdc1d0>"
      ]
     },
     "execution_count": 29,
     "metadata": {},
     "output_type": "execute_result"
    },
    {
     "data": {
      "image/png": "[encoded data removed]",
      "text/plain": [
       "<Figure size 432x288 with 1 Axes>"
      ]
     },
     "metadata": {
      "needs_background": "light"
     },
     "output_type": "display_data"
    }
   ],
   "source": [
    "sns.distplot(df[(df['Item_Outlet_Sales']>2000) & (df['Item_Outlet_Sales']< 4000) ]['Item_Outlet_Sales'], bins = 40)"
   ]
  },
  {
   "cell_type": "markdown",
   "metadata": {},
   "source": [
    "#### 11. Item_mrp"
   ]
  },
  {
   "cell_type": "code",
   "execution_count": 23,
   "metadata": {},
   "outputs": [
    {
     "data": {
      "text/plain": [
       "<matplotlib.axes._subplots.AxesSubplot at 0x44a7e30>"
      ]
     },
     "execution_count": 23,
     "metadata": {},
     "output_type": "execute_result"
    },
    {
     "data": {
      "image/png": "[encoded data removed]",
      "text/plain": [
       "<Figure size 432x288 with 1 Axes>"
      ]
     },
     "metadata": {
      "needs_background": "light"
     },
     "output_type": "display_data"
    }
   ],
   "source": [
    "sns.distplot(df['Item_MRP'])"
   ]
  },
  {
   "cell_type": "markdown",
   "metadata": {},
   "source": [
    "### Handle missing values:-"
   ]
  },
  {
   "cell_type": "code",
   "execution_count": 63,
   "metadata": {},
   "outputs": [
    {
     "data": {
      "text/plain": [
       "Item_Identifier                 0\n",
       "Item_Weight                  1463\n",
       "Item_Fat_Content                0\n",
       "Item_Visibility                 0\n",
       "Item_Type                       0\n",
       "Item_MRP                        0\n",
       "Outlet_Identifier               0\n",
       "Outlet_Establishment_Year       0\n",
       "Outlet_Size                  2410\n",
       "Outlet_Location_Type            0\n",
       "Outlet_Type                     0\n",
       "Item_Outlet_Sales               0\n",
       "dtype: int64"
      ]
     },
     "execution_count": 63,
     "metadata": {},
     "output_type": "execute_result"
    }
   ],
   "source": [
    "df.isna().sum()"
   ]
  },
  {
   "cell_type": "code",
   "execution_count": 35,
   "metadata": {},
   "outputs": [
    {
     "data": {
      "text/plain": [
       "Item_Weight                  0.014123\n",
       "Item_Visibility             -0.128625\n",
       "Item_MRP                     0.567574\n",
       "Outlet_Establishment_Year   -0.049135\n",
       "Item_Outlet_Sales            1.000000\n",
       "Name: Item_Outlet_Sales, dtype: float64"
      ]
     },
     "execution_count": 35,
     "metadata": {},
     "output_type": "execute_result"
    }
   ],
   "source": [
    "df.corr()['Item_Outlet_Sales']"
   ]
  },
  {
   "cell_type": "code",
   "execution_count": 36,
   "metadata": {},
   "outputs": [
    {
     "data": {
      "text/plain": [
       "<matplotlib.axes._subplots.AxesSubplot at 0x11056c10>"
      ]
     },
     "execution_count": 36,
     "metadata": {},
     "output_type": "execute_result"
    },
    {
     "data": {
      "image/png": "[encoded data removed]",
      "text/plain": [
       "<Figure size 432x288 with 1 Axes>"
      ]
     },
     "metadata": {
      "needs_background": "light"
     },
     "output_type": "display_data"
    }
   ],
   "source": [
    "sns.distplot(df.dropna()['Item_Weight'])"
   ]
  },
  {
   "cell_type": "markdown",
   "metadata": {},
   "source": [
    "### Item_weight has almost normal dist. so replace na by mean"
   ]
  },
  {
   "cell_type": "code",
   "execution_count": 5,
   "metadata": {},
   "outputs": [],
   "source": [
    "df['Item_Weight'].fillna(df['Item_Weight'].mean(), inplace = True)"
   ]
  },
  {
   "cell_type": "markdown",
   "metadata": {},
   "source": [
    "### Missing valu in Outlet_Size"
   ]
  },
  {
   "cell_type": "code",
   "execution_count": 76,
   "metadata": {},
   "outputs": [
    {
     "data": {
      "text/plain": [
       "array(['OUT010', 'OUT045', 'OUT017'], dtype=object)"
      ]
     },
     "execution_count": 76,
     "metadata": {},
     "output_type": "execute_result"
    }
   ],
   "source": [
    "df.loc[df['Outlet_Size'][df['Outlet_Size'].isna()].index]['Outlet_Identifier'].unique()"
   ]
  },
  {
   "cell_type": "code",
   "execution_count": 85,
   "metadata": {},
   "outputs": [
    {
     "data": {
      "text/html": [
       "<div>\n",
       "<style scoped>\n",
       "    .dataframe tbody tr th:only-of-type {\n",
       "        vertical-align: middle;\n",
       "    }\n",
       "\n",
       "    .dataframe tbody tr th {\n",
       "        vertical-align: top;\n",
       "    }\n",
       "\n",
       "    .dataframe thead th {\n",
       "        text-align: right;\n",
       "    }\n",
       "</style>\n",
       "<table border=\"1\" class=\"dataframe\">\n",
       "  <thead>\n",
       "    <tr style=\"text-align: right;\">\n",
       "      <th></th>\n",
       "      <th>Item_Identifier</th>\n",
       "      <th>Item_Weight</th>\n",
       "      <th>Item_Fat_Content</th>\n",
       "      <th>Item_Visibility</th>\n",
       "      <th>Item_Type</th>\n",
       "      <th>Item_MRP</th>\n",
       "      <th>Outlet_Identifier</th>\n",
       "      <th>Outlet_Establishment_Year</th>\n",
       "      <th>Outlet_Size</th>\n",
       "      <th>Outlet_Location_Type</th>\n",
       "      <th>Outlet_Type</th>\n",
       "      <th>Item_Outlet_Sales</th>\n",
       "    </tr>\n",
       "  </thead>\n",
       "  <tbody>\n",
       "    <tr>\n",
       "      <td>3</td>\n",
       "      <td>FDX07</td>\n",
       "      <td>19.200</td>\n",
       "      <td>Regular</td>\n",
       "      <td>0.000000</td>\n",
       "      <td>Fruits and Vegetables</td>\n",
       "      <td>182.0950</td>\n",
       "      <td>OUT010</td>\n",
       "      <td>1998</td>\n",
       "      <td>NaN</td>\n",
       "      <td>Tier 3</td>\n",
       "      <td>Grocery Store</td>\n",
       "      <td>732.3800</td>\n",
       "    </tr>\n",
       "    <tr>\n",
       "      <td>28</td>\n",
       "      <td>FDE51</td>\n",
       "      <td>5.925</td>\n",
       "      <td>Regular</td>\n",
       "      <td>0.161467</td>\n",
       "      <td>Dairy</td>\n",
       "      <td>45.5086</td>\n",
       "      <td>OUT010</td>\n",
       "      <td>1998</td>\n",
       "      <td>NaN</td>\n",
       "      <td>Tier 3</td>\n",
       "      <td>Grocery Store</td>\n",
       "      <td>178.4344</td>\n",
       "    </tr>\n",
       "  </tbody>\n",
       "</table>\n",
       "</div>"
      ],
      "text/plain": [
       "   Item_Identifier  Item_Weight Item_Fat_Content  Item_Visibility  \\\n",
       "3            FDX07       19.200          Regular         0.000000   \n",
       "28           FDE51        5.925          Regular         0.161467   \n",
       "\n",
       "                Item_Type  Item_MRP Outlet_Identifier  \\\n",
       "3   Fruits and Vegetables  182.0950            OUT010   \n",
       "28                  Dairy   45.5086            OUT010   \n",
       "\n",
       "    Outlet_Establishment_Year Outlet_Size Outlet_Location_Type    Outlet_Type  \\\n",
       "3                        1998         NaN               Tier 3  Grocery Store   \n",
       "28                       1998         NaN               Tier 3  Grocery Store   \n",
       "\n",
       "    Item_Outlet_Sales  \n",
       "3            732.3800  \n",
       "28           178.4344  "
      ]
     },
     "execution_count": 85,
     "metadata": {},
     "output_type": "execute_result"
    }
   ],
   "source": [
    "df[df['Outlet_Identifier'] == 'OUT010'].head(2)"
   ]
  },
  {
   "cell_type": "code",
   "execution_count": 83,
   "metadata": {},
   "outputs": [
    {
     "data": {
      "text/plain": [
       "Medium    1863\n",
       "High       932\n",
       "Name: Outlet_Size, dtype: int64"
      ]
     },
     "execution_count": 83,
     "metadata": {},
     "output_type": "execute_result"
    }
   ],
   "source": [
    "df[df['Outlet_Location_Type'] == 'Tier 3']['Outlet_Size'].value_counts()"
   ]
  },
  {
   "cell_type": "code",
   "execution_count": 84,
   "metadata": {},
   "outputs": [
    {
     "data": {
      "text/plain": [
       "Small    528\n",
       "Name: Outlet_Size, dtype: int64"
      ]
     },
     "execution_count": 84,
     "metadata": {},
     "output_type": "execute_result"
    }
   ],
   "source": [
    "df[df['Outlet_Type'] == 'Grocery Store']['Outlet_Size'].value_counts()"
   ]
  },
  {
   "cell_type": "code",
   "execution_count": 87,
   "metadata": {},
   "outputs": [
    {
     "data": {
      "text/html": [
       "<div>\n",
       "<style scoped>\n",
       "    .dataframe tbody tr th:only-of-type {\n",
       "        vertical-align: middle;\n",
       "    }\n",
       "\n",
       "    .dataframe tbody tr th {\n",
       "        vertical-align: top;\n",
       "    }\n",
       "\n",
       "    .dataframe thead th {\n",
       "        text-align: right;\n",
       "    }\n",
       "</style>\n",
       "<table border=\"1\" class=\"dataframe\">\n",
       "  <thead>\n",
       "    <tr style=\"text-align: right;\">\n",
       "      <th></th>\n",
       "      <th>Item_Identifier</th>\n",
       "      <th>Item_Weight</th>\n",
       "      <th>Item_Fat_Content</th>\n",
       "      <th>Item_Visibility</th>\n",
       "      <th>Item_Type</th>\n",
       "      <th>Item_MRP</th>\n",
       "      <th>Outlet_Identifier</th>\n",
       "      <th>Outlet_Establishment_Year</th>\n",
       "      <th>Outlet_Size</th>\n",
       "      <th>Outlet_Location_Type</th>\n",
       "      <th>Outlet_Type</th>\n",
       "      <th>Item_Outlet_Sales</th>\n",
       "    </tr>\n",
       "  </thead>\n",
       "  <tbody>\n",
       "    <tr>\n",
       "      <td>8</td>\n",
       "      <td>FDH17</td>\n",
       "      <td>16.20</td>\n",
       "      <td>Regular</td>\n",
       "      <td>0.016687</td>\n",
       "      <td>Frozen Foods</td>\n",
       "      <td>96.9726</td>\n",
       "      <td>OUT045</td>\n",
       "      <td>2002</td>\n",
       "      <td>NaN</td>\n",
       "      <td>Tier 2</td>\n",
       "      <td>Supermarket Type1</td>\n",
       "      <td>1076.5986</td>\n",
       "    </tr>\n",
       "    <tr>\n",
       "      <td>33</td>\n",
       "      <td>FDO23</td>\n",
       "      <td>17.85</td>\n",
       "      <td>Low Fat</td>\n",
       "      <td>0.000000</td>\n",
       "      <td>Breads</td>\n",
       "      <td>93.1436</td>\n",
       "      <td>OUT045</td>\n",
       "      <td>2002</td>\n",
       "      <td>NaN</td>\n",
       "      <td>Tier 2</td>\n",
       "      <td>Supermarket Type1</td>\n",
       "      <td>2174.5028</td>\n",
       "    </tr>\n",
       "  </tbody>\n",
       "</table>\n",
       "</div>"
      ],
      "text/plain": [
       "   Item_Identifier  Item_Weight Item_Fat_Content  Item_Visibility  \\\n",
       "8            FDH17        16.20          Regular         0.016687   \n",
       "33           FDO23        17.85          Low Fat         0.000000   \n",
       "\n",
       "       Item_Type  Item_MRP Outlet_Identifier  Outlet_Establishment_Year  \\\n",
       "8   Frozen Foods   96.9726            OUT045                       2002   \n",
       "33        Breads   93.1436            OUT045                       2002   \n",
       "\n",
       "   Outlet_Size Outlet_Location_Type        Outlet_Type  Item_Outlet_Sales  \n",
       "8          NaN               Tier 2  Supermarket Type1          1076.5986  \n",
       "33         NaN               Tier 2  Supermarket Type1          2174.5028  "
      ]
     },
     "execution_count": 87,
     "metadata": {},
     "output_type": "execute_result"
    }
   ],
   "source": [
    "df[df['Outlet_Identifier'] == 'OUT045'].head(2)"
   ]
  },
  {
   "cell_type": "code",
   "execution_count": 91,
   "metadata": {},
   "outputs": [
    {
     "data": {
      "text/plain": [
       "Small    930\n",
       "Name: Outlet_Size, dtype: int64"
      ]
     },
     "execution_count": 91,
     "metadata": {},
     "output_type": "execute_result"
    }
   ],
   "source": [
    "df[(df['Outlet_Location_Type'] == 'Tier 2') & (df['Outlet_Type'] == 'Supermarket Type1')]['Outlet_Size'].value_counts()"
   ]
  },
  {
   "cell_type": "code",
   "execution_count": 92,
   "metadata": {},
   "outputs": [
    {
     "data": {
      "text/plain": [
       "array(['OUT045', 'OUT017', 'OUT035'], dtype=object)"
      ]
     },
     "execution_count": 92,
     "metadata": {},
     "output_type": "execute_result"
    }
   ],
   "source": [
    "df[(df['Outlet_Location_Type'] == 'Tier 2') & (df['Outlet_Type'] == 'Supermarket Type1')]['Outlet_Identifier'].unique()"
   ]
  },
  {
   "cell_type": "code",
   "execution_count": 93,
   "metadata": {},
   "outputs": [
    {
     "data": {
      "text/plain": [
       "Small     1860\n",
       "High       932\n",
       "Medium     930\n",
       "Name: Outlet_Size, dtype: int64"
      ]
     },
     "execution_count": 93,
     "metadata": {},
     "output_type": "execute_result"
    }
   ],
   "source": [
    "df[df['Outlet_Type'] == 'Supermarket Type1']['Outlet_Size'].value_counts()"
   ]
  },
  {
   "cell_type": "code",
   "execution_count": 94,
   "metadata": {},
   "outputs": [
    {
     "data": {
      "text/plain": [
       "Tier 2    2785\n",
       "Tier 1    1860\n",
       "Tier 3     932\n",
       "Name: Outlet_Location_Type, dtype: int64"
      ]
     },
     "execution_count": 94,
     "metadata": {},
     "output_type": "execute_result"
    }
   ],
   "source": [
    "df[df['Outlet_Type'] == 'Supermarket Type1']['Outlet_Location_Type'].value_counts()"
   ]
  },
  {
   "cell_type": "markdown",
   "metadata": {},
   "source": [
    "### Max supermarket-1 has small size in all location and in tier2 also all outlet has small size"
   ]
  },
  {
   "cell_type": "code",
   "execution_count": 6,
   "metadata": {},
   "outputs": [],
   "source": [
    "df.loc[df[df['Outlet_Identifier'] == 'OUT045'].index, 'Outlet_Size'] = 'Small'"
   ]
  },
  {
   "cell_type": "code",
   "execution_count": 88,
   "metadata": {},
   "outputs": [
    {
     "data": {
      "text/html": [
       "<div>\n",
       "<style scoped>\n",
       "    .dataframe tbody tr th:only-of-type {\n",
       "        vertical-align: middle;\n",
       "    }\n",
       "\n",
       "    .dataframe tbody tr th {\n",
       "        vertical-align: top;\n",
       "    }\n",
       "\n",
       "    .dataframe thead th {\n",
       "        text-align: right;\n",
       "    }\n",
       "</style>\n",
       "<table border=\"1\" class=\"dataframe\">\n",
       "  <thead>\n",
       "    <tr style=\"text-align: right;\">\n",
       "      <th></th>\n",
       "      <th>Item_Identifier</th>\n",
       "      <th>Item_Weight</th>\n",
       "      <th>Item_Fat_Content</th>\n",
       "      <th>Item_Visibility</th>\n",
       "      <th>Item_Type</th>\n",
       "      <th>Item_MRP</th>\n",
       "      <th>Outlet_Identifier</th>\n",
       "      <th>Outlet_Establishment_Year</th>\n",
       "      <th>Outlet_Size</th>\n",
       "      <th>Outlet_Location_Type</th>\n",
       "      <th>Outlet_Type</th>\n",
       "      <th>Item_Outlet_Sales</th>\n",
       "    </tr>\n",
       "  </thead>\n",
       "  <tbody>\n",
       "    <tr>\n",
       "      <td>9</td>\n",
       "      <td>FDU28</td>\n",
       "      <td>19.2</td>\n",
       "      <td>Regular</td>\n",
       "      <td>0.094450</td>\n",
       "      <td>Frozen Foods</td>\n",
       "      <td>187.8214</td>\n",
       "      <td>OUT017</td>\n",
       "      <td>2007</td>\n",
       "      <td>NaN</td>\n",
       "      <td>Tier 2</td>\n",
       "      <td>Supermarket Type1</td>\n",
       "      <td>4710.535</td>\n",
       "    </tr>\n",
       "    <tr>\n",
       "      <td>25</td>\n",
       "      <td>NCD06</td>\n",
       "      <td>13.0</td>\n",
       "      <td>Low Fat</td>\n",
       "      <td>0.099887</td>\n",
       "      <td>Household</td>\n",
       "      <td>45.9060</td>\n",
       "      <td>OUT017</td>\n",
       "      <td>2007</td>\n",
       "      <td>NaN</td>\n",
       "      <td>Tier 2</td>\n",
       "      <td>Supermarket Type1</td>\n",
       "      <td>838.908</td>\n",
       "    </tr>\n",
       "  </tbody>\n",
       "</table>\n",
       "</div>"
      ],
      "text/plain": [
       "   Item_Identifier  Item_Weight Item_Fat_Content  Item_Visibility  \\\n",
       "9            FDU28         19.2          Regular         0.094450   \n",
       "25           NCD06         13.0          Low Fat         0.099887   \n",
       "\n",
       "       Item_Type  Item_MRP Outlet_Identifier  Outlet_Establishment_Year  \\\n",
       "9   Frozen Foods  187.8214            OUT017                       2007   \n",
       "25     Household   45.9060            OUT017                       2007   \n",
       "\n",
       "   Outlet_Size Outlet_Location_Type        Outlet_Type  Item_Outlet_Sales  \n",
       "9          NaN               Tier 2  Supermarket Type1           4710.535  \n",
       "25         NaN               Tier 2  Supermarket Type1            838.908  "
      ]
     },
     "execution_count": 88,
     "metadata": {},
     "output_type": "execute_result"
    }
   ],
   "source": [
    "df[df['Outlet_Identifier'] == 'OUT017'].head(2)"
   ]
  },
  {
   "cell_type": "code",
   "execution_count": 7,
   "metadata": {},
   "outputs": [],
   "source": [
    "df.loc[df[df['Outlet_Identifier'] == 'OUT017'].index, 'Outlet_Size'] = 'Small'"
   ]
  },
  {
   "cell_type": "code",
   "execution_count": 97,
   "metadata": {},
   "outputs": [
    {
     "data": {
      "text/html": [
       "<div>\n",
       "<style scoped>\n",
       "    .dataframe tbody tr th:only-of-type {\n",
       "        vertical-align: middle;\n",
       "    }\n",
       "\n",
       "    .dataframe tbody tr th {\n",
       "        vertical-align: top;\n",
       "    }\n",
       "\n",
       "    .dataframe thead th {\n",
       "        text-align: right;\n",
       "    }\n",
       "</style>\n",
       "<table border=\"1\" class=\"dataframe\">\n",
       "  <thead>\n",
       "    <tr style=\"text-align: right;\">\n",
       "      <th></th>\n",
       "      <th>Item_Identifier</th>\n",
       "      <th>Item_Weight</th>\n",
       "      <th>Item_Fat_Content</th>\n",
       "      <th>Item_Visibility</th>\n",
       "      <th>Item_Type</th>\n",
       "      <th>Item_MRP</th>\n",
       "      <th>Outlet_Identifier</th>\n",
       "      <th>Outlet_Establishment_Year</th>\n",
       "      <th>Outlet_Size</th>\n",
       "      <th>Outlet_Location_Type</th>\n",
       "      <th>Outlet_Type</th>\n",
       "      <th>Item_Outlet_Sales</th>\n",
       "    </tr>\n",
       "  </thead>\n",
       "  <tbody>\n",
       "    <tr>\n",
       "      <td>3</td>\n",
       "      <td>FDX07</td>\n",
       "      <td>19.200</td>\n",
       "      <td>Regular</td>\n",
       "      <td>0.000000</td>\n",
       "      <td>Fruits and Vegetables</td>\n",
       "      <td>182.0950</td>\n",
       "      <td>OUT010</td>\n",
       "      <td>1998</td>\n",
       "      <td>NaN</td>\n",
       "      <td>Tier 3</td>\n",
       "      <td>Grocery Store</td>\n",
       "      <td>732.3800</td>\n",
       "    </tr>\n",
       "    <tr>\n",
       "      <td>28</td>\n",
       "      <td>FDE51</td>\n",
       "      <td>5.925</td>\n",
       "      <td>Regular</td>\n",
       "      <td>0.161467</td>\n",
       "      <td>Dairy</td>\n",
       "      <td>45.5086</td>\n",
       "      <td>OUT010</td>\n",
       "      <td>1998</td>\n",
       "      <td>NaN</td>\n",
       "      <td>Tier 3</td>\n",
       "      <td>Grocery Store</td>\n",
       "      <td>178.4344</td>\n",
       "    </tr>\n",
       "  </tbody>\n",
       "</table>\n",
       "</div>"
      ],
      "text/plain": [
       "   Item_Identifier  Item_Weight Item_Fat_Content  Item_Visibility  \\\n",
       "3            FDX07       19.200          Regular         0.000000   \n",
       "28           FDE51        5.925          Regular         0.161467   \n",
       "\n",
       "                Item_Type  Item_MRP Outlet_Identifier  \\\n",
       "3   Fruits and Vegetables  182.0950            OUT010   \n",
       "28                  Dairy   45.5086            OUT010   \n",
       "\n",
       "    Outlet_Establishment_Year Outlet_Size Outlet_Location_Type    Outlet_Type  \\\n",
       "3                        1998         NaN               Tier 3  Grocery Store   \n",
       "28                       1998         NaN               Tier 3  Grocery Store   \n",
       "\n",
       "    Item_Outlet_Sales  \n",
       "3            732.3800  \n",
       "28           178.4344  "
      ]
     },
     "execution_count": 97,
     "metadata": {},
     "output_type": "execute_result"
    }
   ],
   "source": [
    "df[df['Outlet_Identifier'] == 'OUT010'].head(2)"
   ]
  },
  {
   "cell_type": "code",
   "execution_count": 100,
   "metadata": {},
   "outputs": [
    {
     "data": {
      "text/plain": [
       "array(['OUT010'], dtype=object)"
      ]
     },
     "execution_count": 100,
     "metadata": {},
     "output_type": "execute_result"
    }
   ],
   "source": [
    "df[(df['Outlet_Location_Type'] == 'Tier 3') & (df['Outlet_Type'] == 'Grocery Store')]['Outlet_Identifier'].unique()"
   ]
  },
  {
   "cell_type": "markdown",
   "metadata": {},
   "source": [
    "#### Mainly outlet size is depends upon city or location type or this type of outlet in which size opened in diff location"
   ]
  },
  {
   "cell_type": "code",
   "execution_count": 101,
   "metadata": {},
   "outputs": [
    {
     "data": {
      "text/plain": [
       "Medium    1863\n",
       "High       932\n",
       "Name: Outlet_Size, dtype: int64"
      ]
     },
     "execution_count": 101,
     "metadata": {},
     "output_type": "execute_result"
    }
   ],
   "source": [
    "df[(df['Outlet_Location_Type'] == 'Tier 3')]['Outlet_Size'].value_counts()"
   ]
  },
  {
   "cell_type": "code",
   "execution_count": 102,
   "metadata": {},
   "outputs": [
    {
     "data": {
      "text/plain": [
       "Small    528\n",
       "Name: Outlet_Size, dtype: int64"
      ]
     },
     "execution_count": 102,
     "metadata": {},
     "output_type": "execute_result"
    }
   ],
   "source": [
    "df[df['Outlet_Type'] == 'Grocery Store']['Outlet_Size'].value_counts()"
   ]
  },
  {
   "cell_type": "code",
   "execution_count": 103,
   "metadata": {},
   "outputs": [
    {
     "data": {
      "text/plain": [
       "Tier 3    555\n",
       "Tier 1    528\n",
       "Name: Outlet_Location_Type, dtype: int64"
      ]
     },
     "execution_count": 103,
     "metadata": {},
     "output_type": "execute_result"
    }
   ],
   "source": [
    "df[df['Outlet_Type'] == 'Grocery Store']['Outlet_Location_Type'].value_counts()"
   ]
  },
  {
   "cell_type": "code",
   "execution_count": 104,
   "metadata": {},
   "outputs": [
    {
     "data": {
      "text/plain": [
       "Small     1458\n",
       "Medium     930\n",
       "Name: Outlet_Size, dtype: int64"
      ]
     },
     "execution_count": 104,
     "metadata": {},
     "output_type": "execute_result"
    }
   ],
   "source": [
    "df[(df['Outlet_Location_Type'] == 'Tier 1')]['Outlet_Size'].value_counts()"
   ]
  },
  {
   "cell_type": "code",
   "execution_count": 106,
   "metadata": {},
   "outputs": [
    {
     "data": {
      "text/plain": [
       "<matplotlib.axes._subplots.AxesSubplot at 0x1213a470>"
      ]
     },
     "execution_count": 106,
     "metadata": {},
     "output_type": "execute_result"
    },
    {
     "data": {
      "image/png": "[encoded data removed]",
      "text/plain": [
       "<Figure size 432x288 with 1 Axes>"
      ]
     },
     "metadata": {
      "needs_background": "light"
     },
     "output_type": "display_data"
    }
   ],
   "source": [
    "sns.distplot(df[df['Outlet_Identifier'] == 'OUT010']['Item_Outlet_Sales'])"
   ]
  },
  {
   "cell_type": "code",
   "execution_count": 108,
   "metadata": {},
   "outputs": [
    {
     "data": {
      "text/plain": [
       "Small     1265\n",
       "Medium     487\n",
       "High       215\n",
       "Name: Outlet_Size, dtype: int64"
      ]
     },
     "execution_count": 108,
     "metadata": {},
     "output_type": "execute_result"
    }
   ],
   "source": [
    "df[df['Item_Outlet_Sales'] <1000]['Outlet_Size'].value_counts()"
   ]
  },
  {
   "cell_type": "markdown",
   "metadata": {},
   "source": [
    "### \n",
    "Firstly Out10 is in Tier 3 and it is Grosery store in this city there is no any other glosery store and secon point is  \n",
    "then mainly Grosery stores are small size in which other cities and third point is the sale of this stores is lie below 1000\n",
    "and in it maximum stores are small sizes so"
   ]
  },
  {
   "cell_type": "code",
   "execution_count": 8,
   "metadata": {},
   "outputs": [],
   "source": [
    "df.loc[df[df['Outlet_Identifier'] == 'OUT010'].index, 'Outlet_Size'] = 'Small'"
   ]
  },
  {
   "cell_type": "code",
   "execution_count": 9,
   "metadata": {},
   "outputs": [
    {
     "data": {
      "text/plain": [
       "<matplotlib.axes._subplots.AxesSubplot at 0xed99570>"
      ]
     },
     "execution_count": 9,
     "metadata": {},
     "output_type": "execute_result"
    },
    {
     "data": {
      "image/png": "[encoded data removed]",
      "text/plain": [
       "<Figure size 432x288 with 1 Axes>"
      ]
     },
     "metadata": {
      "needs_background": "light"
     },
     "output_type": "display_data"
    }
   ],
   "source": [
    "sns.countplot(df['Outlet_Size'])"
   ]
  },
  {
   "cell_type": "code",
   "execution_count": 10,
   "metadata": {},
   "outputs": [
    {
     "data": {
      "text/plain": [
       "Item_Identifier              0\n",
       "Item_Weight                  0\n",
       "Item_Fat_Content             0\n",
       "Item_Visibility              0\n",
       "Item_Type                    0\n",
       "Item_MRP                     0\n",
       "Outlet_Identifier            0\n",
       "Outlet_Establishment_Year    0\n",
       "Outlet_Size                  0\n",
       "Outlet_Location_Type         0\n",
       "Outlet_Type                  0\n",
       "Item_Outlet_Sales            0\n",
       "dtype: int64"
      ]
     },
     "execution_count": 10,
     "metadata": {},
     "output_type": "execute_result"
    }
   ],
   "source": [
    "df.isna().sum()"
   ]
  },
  {
   "cell_type": "markdown",
   "metadata": {},
   "source": [
    "### Bivariate analysis"
   ]
  },
  {
   "cell_type": "code",
   "execution_count": 11,
   "metadata": {},
   "outputs": [
    {
     "data": {
      "text/html": [
       "<div>\n",
       "<style scoped>\n",
       "    .dataframe tbody tr th:only-of-type {\n",
       "        vertical-align: middle;\n",
       "    }\n",
       "\n",
       "    .dataframe tbody tr th {\n",
       "        vertical-align: top;\n",
       "    }\n",
       "\n",
       "    .dataframe thead th {\n",
       "        text-align: right;\n",
       "    }\n",
       "</style>\n",
       "<table border=\"1\" class=\"dataframe\">\n",
       "  <thead>\n",
       "    <tr style=\"text-align: right;\">\n",
       "      <th></th>\n",
       "      <th>Item_Identifier</th>\n",
       "      <th>Item_Weight</th>\n",
       "      <th>Item_Fat_Content</th>\n",
       "      <th>Item_Visibility</th>\n",
       "      <th>Item_Type</th>\n",
       "      <th>Item_MRP</th>\n",
       "      <th>Outlet_Identifier</th>\n",
       "      <th>Outlet_Establishment_Year</th>\n",
       "      <th>Outlet_Size</th>\n",
       "      <th>Outlet_Location_Type</th>\n",
       "      <th>Outlet_Type</th>\n",
       "      <th>Item_Outlet_Sales</th>\n",
       "    </tr>\n",
       "  </thead>\n",
       "  <tbody>\n",
       "    <tr>\n",
       "      <td>0</td>\n",
       "      <td>FDA15</td>\n",
       "      <td>9.3</td>\n",
       "      <td>Low Fat</td>\n",
       "      <td>0.016047</td>\n",
       "      <td>Dairy</td>\n",
       "      <td>249.8092</td>\n",
       "      <td>OUT049</td>\n",
       "      <td>1999</td>\n",
       "      <td>Medium</td>\n",
       "      <td>Tier 1</td>\n",
       "      <td>Supermarket Type1</td>\n",
       "      <td>3735.138</td>\n",
       "    </tr>\n",
       "  </tbody>\n",
       "</table>\n",
       "</div>"
      ],
      "text/plain": [
       "  Item_Identifier  Item_Weight Item_Fat_Content  Item_Visibility Item_Type  \\\n",
       "0           FDA15          9.3          Low Fat         0.016047     Dairy   \n",
       "\n",
       "   Item_MRP Outlet_Identifier  Outlet_Establishment_Year Outlet_Size  \\\n",
       "0  249.8092            OUT049                       1999      Medium   \n",
       "\n",
       "  Outlet_Location_Type        Outlet_Type  Item_Outlet_Sales  \n",
       "0               Tier 1  Supermarket Type1           3735.138  "
      ]
     },
     "execution_count": 11,
     "metadata": {},
     "output_type": "execute_result"
    }
   ],
   "source": [
    "df.head(1)"
   ]
  },
  {
   "cell_type": "code",
   "execution_count": 13,
   "metadata": {},
   "outputs": [
    {
     "data": {
      "text/plain": [
       "<matplotlib.axes._subplots.AxesSubplot at 0xedbf750>"
      ]
     },
     "execution_count": 13,
     "metadata": {},
     "output_type": "execute_result"
    },
    {
     "data": {
      "image/png": "[encoded data removed]",
      "text/plain": [
       "<Figure size 432x288 with 1 Axes>"
      ]
     },
     "metadata": {
      "needs_background": "light"
     },
     "output_type": "display_data"
    }
   ],
   "source": [
    "sns.barplot(df['Outlet_Location_Type'], df['Item_Outlet_Sales'], estimator = sum)"
   ]
  },
  {
   "cell_type": "code",
   "execution_count": 25,
   "metadata": {},
   "outputs": [
    {
     "data": {
      "text/plain": [
       "<matplotlib.axes._subplots.AxesSubplot at 0x129f4570>"
      ]
     },
     "execution_count": 25,
     "metadata": {},
     "output_type": "execute_result"
    },
    {
     "data": {
      "image/png": "[encoded data removed]",
      "text/plain": [
       "<Figure size 432x288 with 1 Axes>"
      ]
     },
     "metadata": {
      "needs_background": "light"
     },
     "output_type": "display_data"
    }
   ],
   "source": [
    "sns.barplot(df['Outlet_Location_Type'], df['Item_Outlet_Sales'], hue = df['Outlet_Type'])"
   ]
  },
  {
   "cell_type": "code",
   "execution_count": 14,
   "metadata": {},
   "outputs": [
    {
     "data": {
      "text/plain": [
       "<matplotlib.axes._subplots.AxesSubplot at 0x3ea7f70>"
      ]
     },
     "execution_count": 14,
     "metadata": {},
     "output_type": "execute_result"
    },
    {
     "data": {
      "image/png": "[encoded data removed]",
      "text/plain": [
       "<Figure size 432x288 with 1 Axes>"
      ]
     },
     "metadata": {
      "needs_background": "light"
     },
     "output_type": "display_data"
    }
   ],
   "source": [
    "sns.barplot(df['Outlet_Location_Type'], df['Item_Outlet_Sales'], hue = df['Outlet_Type'], estimator = sum)"
   ]
  },
  {
   "cell_type": "code",
   "execution_count": 16,
   "metadata": {},
   "outputs": [
    {
     "data": {
      "text/plain": [
       "<matplotlib.axes._subplots.AxesSubplot at 0x3ee3f10>"
      ]
     },
     "execution_count": 16,
     "metadata": {},
     "output_type": "execute_result"
    },
    {
     "data": {
      "image/png": "[encoded data removed]",
      "text/plain": [
       "<Figure size 432x288 with 1 Axes>"
      ]
     },
     "metadata": {
      "needs_background": "light"
     },
     "output_type": "display_data"
    }
   ],
   "source": [
    "sns.barplot(df['Outlet_Location_Type'], df['Item_Outlet_Sales'], hue = df['Outlet_Size'], estimator = sum)"
   ]
  },
  {
   "cell_type": "code",
   "execution_count": 33,
   "metadata": {},
   "outputs": [
    {
     "data": {
      "text/plain": [
       "<matplotlib.axes._subplots.AxesSubplot at 0xfeda6d0>"
      ]
     },
     "execution_count": 33,
     "metadata": {},
     "output_type": "execute_result"
    },
    {
     "data": {
      "image/png": "[encoded data removed]",
      "text/plain": [
       "<Figure size 504x360 with 1 Axes>"
      ]
     },
     "metadata": {
      "needs_background": "light"
     },
     "output_type": "display_data"
    }
   ],
   "source": [
    "plt.figure(figsize = (7,5))\n",
    "plt.xticks(rotation = 90)\n",
    "sns.barplot(df['Outlet_Type'], df['Item_Outlet_Sales'], hue = df['Outlet_Size'])"
   ]
  },
  {
   "cell_type": "code",
   "execution_count": 18,
   "metadata": {},
   "outputs": [
    {
     "data": {
      "text/plain": [
       "<matplotlib.axes._subplots.AxesSubplot at 0x3f62cb0>"
      ]
     },
     "execution_count": 18,
     "metadata": {},
     "output_type": "execute_result"
    },
    {
     "data": {
      "image/png": "[encoded data removed]",
      "text/plain": [
       "<Figure size 432x288 with 1 Axes>"
      ]
     },
     "metadata": {
      "needs_background": "light"
     },
     "output_type": "display_data"
    }
   ],
   "source": [
    "sns.boxplot(df['Outlet_Location_Type'], df['Item_Outlet_Sales'])"
   ]
  },
  {
   "cell_type": "code",
   "execution_count": 19,
   "metadata": {},
   "outputs": [
    {
     "data": {
      "text/plain": [
       "<matplotlib.axes._subplots.AxesSubplot at 0x10621b70>"
      ]
     },
     "execution_count": 19,
     "metadata": {},
     "output_type": "execute_result"
    },
    {
     "data": {
      "image/png": "[encoded data removed]",
      "text/plain": [
       "<Figure size 432x288 with 1 Axes>"
      ]
     },
     "metadata": {
      "needs_background": "light"
     },
     "output_type": "display_data"
    }
   ],
   "source": [
    "sns.violinplot(df['Outlet_Location_Type'], df['Item_Outlet_Sales'])"
   ]
  },
  {
   "cell_type": "code",
   "execution_count": 23,
   "metadata": {},
   "outputs": [],
   "source": [
    "sns.swarmplot(df['Outlet_Location_Type'], df['Item_Outlet_Sales'])"
   ]
  },
  {
   "cell_type": "code",
   "execution_count": 27,
   "metadata": {},
   "outputs": [
    {
     "data": {
      "text/plain": [
       "<seaborn.axisgrid.JointGrid at 0x11570350>"
      ]
     },
     "execution_count": 27,
     "metadata": {},
     "output_type": "execute_result"
    },
    {
     "data": {
      "image/png": "[encoded data removed]",
      "text/plain": [
       "<Figure size 432x432 with 3 Axes>"
      ]
     },
     "metadata": {
      "needs_background": "light"
     },
     "output_type": "display_data"
    }
   ],
   "source": [
    "sns.jointplot(df['Item_MRP'], df['Item_Outlet_Sales'])"
   ]
  },
  {
   "cell_type": "code",
   "execution_count": 28,
   "metadata": {},
   "outputs": [
    {
     "data": {
      "text/plain": [
       "<matplotlib.axes._subplots.AxesSubplot at 0x115290f0>"
      ]
     },
     "execution_count": 28,
     "metadata": {},
     "output_type": "execute_result"
    },
    {
     "data": {
      "image/png": "[encoded data removed]",
      "text/plain": [
       "<Figure size 432x288 with 1 Axes>"
      ]
     },
     "metadata": {
      "needs_background": "light"
     },
     "output_type": "display_data"
    }
   ],
   "source": [
    "sns.scatterplot(df['Item_MRP'], df['Item_Outlet_Sales'])"
   ]
  },
  {
   "cell_type": "code",
   "execution_count": 31,
   "metadata": {},
   "outputs": [
    {
     "data": {
      "text/html": [
       "<div>\n",
       "<style scoped>\n",
       "    .dataframe tbody tr th:only-of-type {\n",
       "        vertical-align: middle;\n",
       "    }\n",
       "\n",
       "    .dataframe tbody tr th {\n",
       "        vertical-align: top;\n",
       "    }\n",
       "\n",
       "    .dataframe thead th {\n",
       "        text-align: right;\n",
       "    }\n",
       "</style>\n",
       "<table border=\"1\" class=\"dataframe\">\n",
       "  <thead>\n",
       "    <tr style=\"text-align: right;\">\n",
       "      <th></th>\n",
       "      <th>Item_Identifier</th>\n",
       "      <th>Item_Weight</th>\n",
       "      <th>Item_Fat_Content</th>\n",
       "      <th>Item_Visibility</th>\n",
       "      <th>Item_Type</th>\n",
       "      <th>Item_MRP</th>\n",
       "      <th>Outlet_Identifier</th>\n",
       "      <th>Outlet_Establishment_Year</th>\n",
       "      <th>Outlet_Size</th>\n",
       "      <th>Outlet_Location_Type</th>\n",
       "      <th>Outlet_Type</th>\n",
       "      <th>Item_Outlet_Sales</th>\n",
       "    </tr>\n",
       "  </thead>\n",
       "  <tbody>\n",
       "    <tr>\n",
       "      <td>0</td>\n",
       "      <td>FDA15</td>\n",
       "      <td>9.3</td>\n",
       "      <td>Low Fat</td>\n",
       "      <td>0.016047</td>\n",
       "      <td>Dairy</td>\n",
       "      <td>249.8092</td>\n",
       "      <td>OUT049</td>\n",
       "      <td>1999</td>\n",
       "      <td>Medium</td>\n",
       "      <td>Tier 1</td>\n",
       "      <td>Supermarket Type1</td>\n",
       "      <td>3735.138</td>\n",
       "    </tr>\n",
       "  </tbody>\n",
       "</table>\n",
       "</div>"
      ],
      "text/plain": [
       "  Item_Identifier  Item_Weight Item_Fat_Content  Item_Visibility Item_Type  \\\n",
       "0           FDA15          9.3          Low Fat         0.016047     Dairy   \n",
       "\n",
       "   Item_MRP Outlet_Identifier  Outlet_Establishment_Year Outlet_Size  \\\n",
       "0  249.8092            OUT049                       1999      Medium   \n",
       "\n",
       "  Outlet_Location_Type        Outlet_Type  Item_Outlet_Sales  \n",
       "0               Tier 1  Supermarket Type1           3735.138  "
      ]
     },
     "execution_count": 31,
     "metadata": {},
     "output_type": "execute_result"
    }
   ],
   "source": [
    "df.head(1)"
   ]
  },
  {
   "cell_type": "code",
   "execution_count": 32,
   "metadata": {},
   "outputs": [
    {
     "data": {
      "image/png": "[encoded data removed]",
      "text/plain": [
       "<Figure size 648x216 with 3 Axes>"
      ]
     },
     "metadata": {
      "needs_background": "light"
     },
     "output_type": "display_data"
    }
   ],
   "source": [
    "ax = sns.FacetGrid(df, col = 'Outlet_Location_Type')\n",
    "ax = ax.map(plt.scatter, 'Item_MRP', 'Item_Outlet_Sales')"
   ]
  },
  {
   "cell_type": "code",
   "execution_count": 33,
   "metadata": {},
   "outputs": [
    {
     "data": {
      "image/png": "[encoded data removed]",
      "text/plain": [
       "<Figure size 864x216 with 4 Axes>"
      ]
     },
     "metadata": {
      "needs_background": "light"
     },
     "output_type": "display_data"
    }
   ],
   "source": [
    "ax = sns.FacetGrid(df, col = 'Outlet_Type')\n",
    "ax = ax.map(plt.scatter, 'Item_MRP', 'Item_Outlet_Sales')"
   ]
  },
  {
   "cell_type": "code",
   "execution_count": 12,
   "metadata": {},
   "outputs": [
    {
     "data": {
      "image/png": "[encoded data removed]",
      "text/plain": [
       "<Figure size 864x216 with 4 Axes>"
      ]
     },
     "metadata": {
      "needs_background": "light"
     },
     "output_type": "display_data"
    }
   ],
   "source": [
    "ax = sns.FacetGrid(df, col = 'Outlet_Type')\n",
    "ax = ax.map(plt.hist, 'Item_Outlet_Sales')"
   ]
  },
  {
   "cell_type": "code",
   "execution_count": 13,
   "metadata": {},
   "outputs": [
    {
     "data": {
      "image/png": "[encoded data removed]",
      "text/plain": [
       "<Figure size 648x216 with 3 Axes>"
      ]
     },
     "metadata": {
      "needs_background": "light"
     },
     "output_type": "display_data"
    }
   ],
   "source": [
    "ax = sns.FacetGrid(df, col = 'Outlet_Location_Type')\n",
    "ax = ax.map(plt.hist, 'Item_Outlet_Sales')"
   ]
  },
  {
   "cell_type": "code",
   "execution_count": 15,
   "metadata": {},
   "outputs": [
    {
     "data": {
      "image/png": "[encoded data removed]",
      "text/plain": [
       "<Figure size 648x216 with 3 Axes>"
      ]
     },
     "metadata": {
      "needs_background": "light"
     },
     "output_type": "display_data"
    }
   ],
   "source": [
    "ax = sns.FacetGrid(df, col = 'Outlet_Location_Type')\n",
    "ax = ax.map(plt.hist, 'Item_MRP')"
   ]
  },
  {
   "cell_type": "code",
   "execution_count": 14,
   "metadata": {},
   "outputs": [
    {
     "data": {
      "image/png": "[encoded data removed]",
      "text/plain": [
       "<Figure size 648x216 with 3 Axes>"
      ]
     },
     "metadata": {
      "needs_background": "light"
     },
     "output_type": "display_data"
    }
   ],
   "source": [
    "ax = sns.FacetGrid(df, col = 'Outlet_Size')\n",
    "ax = ax.map(plt.hist, 'Item_Outlet_Sales')"
   ]
  },
  {
   "cell_type": "code",
   "execution_count": 16,
   "metadata": {},
   "outputs": [
    {
     "data": {
      "text/plain": [
       "(Outlet_Type\n",
       " Grocery Store        3.680343e+05\n",
       " Supermarket Type1    1.291734e+07\n",
       " Supermarket Type2    1.851823e+06\n",
       " Supermarket Type3    3.453926e+06\n",
       " Name: Item_Outlet_Sales, dtype: float64, Supermarket Type1    5577\n",
       " Grocery Store        1083\n",
       " Supermarket Type3     935\n",
       " Supermarket Type2     928\n",
       " Name: Outlet_Type, dtype: int64)"
      ]
     },
     "execution_count": 16,
     "metadata": {},
     "output_type": "execute_result"
    }
   ],
   "source": [
    "df.groupby(['Outlet_Type'])['Item_Outlet_Sales'].sum(), df['Outlet_Type'].value_counts()"
   ]
  },
  {
   "cell_type": "code",
   "execution_count": 17,
   "metadata": {},
   "outputs": [
    {
     "data": {
      "text/plain": [
       "<matplotlib.axes._subplots.AxesSubplot at 0x111d9170>"
      ]
     },
     "execution_count": 17,
     "metadata": {},
     "output_type": "execute_result"
    },
    {
     "data": {
      "image/png": "[encoded data removed]",
      "text/plain": [
       "<Figure size 432x288 with 2 Axes>"
      ]
     },
     "metadata": {
      "needs_background": "light"
     },
     "output_type": "display_data"
    }
   ],
   "source": [
    "sns.heatmap(df.corr())"
   ]
  },
  {
   "cell_type": "code",
   "execution_count": 60,
   "metadata": {},
   "outputs": [],
   "source": [
    "df['Store_running_from'] = df['Outlet_Establishment_Year'].map(lambda x : 2013 - x)"
   ]
  },
  {
   "cell_type": "code",
   "execution_count": 21,
   "metadata": {},
   "outputs": [
    {
     "data": {
      "text/plain": [
       "<matplotlib.axes._subplots.AxesSubplot at 0x128d1a70>"
      ]
     },
     "execution_count": 21,
     "metadata": {},
     "output_type": "execute_result"
    },
    {
     "data": {
      "image/png": "[encoded data removed]",
      "text/plain": [
       "<Figure size 432x288 with 1 Axes>"
      ]
     },
     "metadata": {
      "needs_background": "light"
     },
     "output_type": "display_data"
    }
   ],
   "source": [
    "sns.lineplot(df['Store_running_from'], df['Item_Outlet_Sales'])"
   ]
  },
  {
   "cell_type": "code",
   "execution_count": 24,
   "metadata": {},
   "outputs": [
    {
     "data": {
      "text/plain": [
       "<matplotlib.axes._subplots.AxesSubplot at 0x129d7810>"
      ]
     },
     "execution_count": 24,
     "metadata": {},
     "output_type": "execute_result"
    },
    {
     "data": {
      "image/png": "[encoded data removed]",
      "text/plain": [
       "<Figure size 432x288 with 1 Axes>"
      ]
     },
     "metadata": {
      "needs_background": "light"
     },
     "output_type": "display_data"
    }
   ],
   "source": [
    "plt.xticks(rotation = 90)\n",
    "sns.barplot(df['Item_Type'], df['Item_Outlet_Sales'])"
   ]
  },
  {
   "cell_type": "code",
   "execution_count": 65,
   "metadata": {},
   "outputs": [
    {
     "data": {
      "text/plain": [
       "<matplotlib.axes._subplots.AxesSubplot at 0x114c38d0>"
      ]
     },
     "execution_count": 65,
     "metadata": {},
     "output_type": "execute_result"
    },
    {
     "data": {
      "image/png": "[encoded data removed]",
      "text/plain": [
       "<Figure size 432x288 with 1 Axes>"
      ]
     },
     "metadata": {
      "needs_background": "light"
     },
     "output_type": "display_data"
    }
   ],
   "source": [
    "sns.barplot(df['Item_Fat_Content'], df['Item_Outlet_Sales'])"
   ]
  },
  {
   "cell_type": "code",
   "execution_count": 66,
   "metadata": {},
   "outputs": [
    {
     "data": {
      "text/plain": [
       "<matplotlib.axes._subplots.AxesSubplot at 0x1001be10>"
      ]
     },
     "execution_count": 66,
     "metadata": {},
     "output_type": "execute_result"
    },
    {
     "data": {
      "image/png": "[encoded data removed]",
      "text/plain": [
       "<Figure size 432x288 with 1 Axes>"
      ]
     },
     "metadata": {
      "needs_background": "light"
     },
     "output_type": "display_data"
    }
   ],
   "source": [
    "sns.countplot(df['Item_Fat_Content'])"
   ]
  },
  {
   "cell_type": "code",
   "execution_count": 9,
   "metadata": {},
   "outputs": [
    {
     "data": {
      "text/plain": [
       "Fruits and Vegetables    1232\n",
       "Snack Foods              1200\n",
       "Household                 910\n",
       "Frozen Foods              856\n",
       "Dairy                     682\n",
       "Canned                    649\n",
       "Baking Goods              648\n",
       "Health and Hygiene        520\n",
       "Soft Drinks               445\n",
       "Meat                      425\n",
       "Breads                    251\n",
       "Hard Drinks               214\n",
       "Others                    169\n",
       "Starchy Foods             148\n",
       "Breakfast                 110\n",
       "Seafood                    64\n",
       "Name: Item_Type, dtype: int64"
      ]
     },
     "execution_count": 9,
     "metadata": {},
     "output_type": "execute_result"
    }
   ],
   "source": [
    "main['Item_Type'].value_counts()"
   ]
  },
  {
   "cell_type": "code",
   "execution_count": 12,
   "metadata": {},
   "outputs": [
    {
     "data": {
      "text/plain": [
       "<matplotlib.axes._subplots.AxesSubplot at 0xd632af0>"
      ]
     },
     "execution_count": 12,
     "metadata": {},
     "output_type": "execute_result"
    },
    {
     "data": {
      "image/png": "[encoded data removed]",
      "text/plain": [
       "<Figure size 720x360 with 1 Axes>"
      ]
     },
     "metadata": {
      "needs_background": "light"
     },
     "output_type": "display_data"
    }
   ],
   "source": [
    "plt.figure(figsize = (10,5))\n",
    "plt.xticks(rotation = 90)\n",
    "sns.countplot(main['Outlet_Type'], hue = main['Item_Type'])"
   ]
  },
  {
   "cell_type": "code",
   "execution_count": 13,
   "metadata": {},
   "outputs": [
    {
     "data": {
      "text/plain": [
       "<matplotlib.axes._subplots.AxesSubplot at 0xd676170>"
      ]
     },
     "execution_count": 13,
     "metadata": {},
     "output_type": "execute_result"
    },
    {
     "data": {
      "image/png": "[encoded data removed]",
      "text/plain": [
       "<Figure size 720x360 with 1 Axes>"
      ]
     },
     "metadata": {
      "needs_background": "light"
     },
     "output_type": "display_data"
    }
   ],
   "source": [
    "plt.figure(figsize = (10,5))\n",
    "plt.xticks(rotation = 90)\n",
    "sns.barplot(main['Outlet_Type'], main['Item_Outlet_Sales'], hue = main['Item_Type'])"
   ]
  },
  {
   "cell_type": "markdown",
   "metadata": {},
   "source": [
    "## Encoding:-"
   ]
  },
  {
   "cell_type": "code",
   "execution_count": 7,
   "metadata": {},
   "outputs": [],
   "source": [
    "df1 = df.copy()"
   ]
  },
  {
   "cell_type": "code",
   "execution_count": 8,
   "metadata": {},
   "outputs": [
    {
     "data": {
      "text/plain": [
       "Outlet_Type\n",
       "Grocery Store        3.680343e+05\n",
       "Supermarket Type1    1.291734e+07\n",
       "Supermarket Type2    1.851823e+06\n",
       "Supermarket Type3    3.453926e+06\n",
       "Name: Item_Outlet_Sales, dtype: float64"
      ]
     },
     "execution_count": 8,
     "metadata": {},
     "output_type": "execute_result"
    }
   ],
   "source": [
    "df1.groupby(['Outlet_Type'])['Item_Outlet_Sales'].sum()"
   ]
  },
  {
   "cell_type": "code",
   "execution_count": 9,
   "metadata": {},
   "outputs": [
    {
     "data": {
      "text/plain": [
       "Outlet_Type\n",
       "Grocery Store        1083\n",
       "Supermarket Type1    5577\n",
       "Supermarket Type2     928\n",
       "Supermarket Type3     935\n",
       "Name: Item_Identifier, dtype: int64"
      ]
     },
     "execution_count": 9,
     "metadata": {},
     "output_type": "execute_result"
    }
   ],
   "source": [
    "df.groupby(['Outlet_Type'])['Item_Identifier'].count()"
   ]
  },
  {
   "cell_type": "code",
   "execution_count": 10,
   "metadata": {},
   "outputs": [
    {
     "data": {
      "text/plain": [
       "{'Grocery Store': 901,\n",
       " 'Supermarket Type1': 1550,\n",
       " 'Supermarket Type2': 928,\n",
       " 'Supermarket Type3': 935}"
      ]
     },
     "execution_count": 10,
     "metadata": {},
     "output_type": "execute_result"
    }
   ],
   "source": [
    "dict_ = {}\n",
    "for i in set(df['Outlet_Type']):\n",
    "    dict_[i] = df[df['Outlet_Type'] == i]['Item_Identifier'].nunique()\n",
    "dict_"
   ]
  },
  {
   "cell_type": "code",
   "execution_count": 12,
   "metadata": {},
   "outputs": [],
   "source": [
    "df1['Outlet_Type'] = df1['Outlet_Type'].map((df1.groupby(['Outlet_Type'])['Item_Outlet_Sales'].sum()/df1.groupby(['Outlet_Type'])['Item_Outlet_Sales'].count()).to_dict())"
   ]
  },
  {
   "cell_type": "code",
   "execution_count": 13,
   "metadata": {},
   "outputs": [
    {
     "data": {
      "text/plain": [
       "Item_Outlet_Sales            1.000000\n",
       "Item_MRP                     0.567574\n",
       "Outlet_Type                  0.489464\n",
       "Item_Weight                  0.011550\n",
       "Outlet_Establishment_Year   -0.049135\n",
       "Item_Visibility             -0.128625\n",
       "Name: Item_Outlet_Sales, dtype: float64"
      ]
     },
     "execution_count": 13,
     "metadata": {},
     "output_type": "execute_result"
    }
   ],
   "source": [
    "df1.corr()['Item_Outlet_Sales'].sort_values(ascending = False)"
   ]
  },
  {
   "cell_type": "markdown",
   "metadata": {},
   "source": [
    "### Item_Type\n",
    "sale of item_type proportional to its variety or product types in it"
   ]
  },
  {
   "cell_type": "code",
   "execution_count": 15,
   "metadata": {},
   "outputs": [
    {
     "name": "stdout",
     "output_type": "stream",
     "text": [
      "Hard Drinks 40\n",
      "Others 30\n",
      "Household 170\n",
      "Seafood 10\n",
      "Fruits and Vegetables 220\n",
      "Canned 120\n",
      "Health and Hygiene 95\n",
      "Baking Goods 119\n",
      "Breads 45\n",
      "Starchy Foods 30\n",
      "Dairy 125\n",
      "Frozen Foods 155\n",
      "Breakfast 20\n",
      "Meat 80\n",
      "Snack Foods 220\n",
      "Soft Drinks 80\n"
     ]
    }
   ],
   "source": [
    "for i in set(df['Item_Type']):\n",
    "    print(i,df[df['Item_Type'] == i]['Item_Identifier'].nunique())"
   ]
  },
  {
   "cell_type": "code",
   "execution_count": 16,
   "metadata": {},
   "outputs": [
    {
     "data": {
      "text/html": [
       "<div>\n",
       "<style scoped>\n",
       "    .dataframe tbody tr th:only-of-type {\n",
       "        vertical-align: middle;\n",
       "    }\n",
       "\n",
       "    .dataframe tbody tr th {\n",
       "        vertical-align: top;\n",
       "    }\n",
       "\n",
       "    .dataframe thead th {\n",
       "        text-align: right;\n",
       "    }\n",
       "</style>\n",
       "<table border=\"1\" class=\"dataframe\">\n",
       "  <thead>\n",
       "    <tr style=\"text-align: right;\">\n",
       "      <th></th>\n",
       "      <th>nu of items in every item_type</th>\n",
       "      <th>total sale by them</th>\n",
       "    </tr>\n",
       "  </thead>\n",
       "  <tbody>\n",
       "    <tr>\n",
       "      <td>Fruits and Vegetables</td>\n",
       "      <td>220.0</td>\n",
       "      <td>2.820060e+06</td>\n",
       "    </tr>\n",
       "    <tr>\n",
       "      <td>Snack Foods</td>\n",
       "      <td>220.0</td>\n",
       "      <td>2.732786e+06</td>\n",
       "    </tr>\n",
       "    <tr>\n",
       "      <td>Household</td>\n",
       "      <td>170.0</td>\n",
       "      <td>2.055494e+06</td>\n",
       "    </tr>\n",
       "    <tr>\n",
       "      <td>Frozen Foods</td>\n",
       "      <td>155.0</td>\n",
       "      <td>1.825735e+06</td>\n",
       "    </tr>\n",
       "    <tr>\n",
       "      <td>Dairy</td>\n",
       "      <td>125.0</td>\n",
       "      <td>1.522594e+06</td>\n",
       "    </tr>\n",
       "    <tr>\n",
       "      <td>Canned</td>\n",
       "      <td>120.0</td>\n",
       "      <td>1.444151e+06</td>\n",
       "    </tr>\n",
       "    <tr>\n",
       "      <td>Baking Goods</td>\n",
       "      <td>119.0</td>\n",
       "      <td>1.265525e+06</td>\n",
       "    </tr>\n",
       "    <tr>\n",
       "      <td>Health and Hygiene</td>\n",
       "      <td>95.0</td>\n",
       "      <td>1.045200e+06</td>\n",
       "    </tr>\n",
       "    <tr>\n",
       "      <td>Meat</td>\n",
       "      <td>80.0</td>\n",
       "      <td>9.175656e+05</td>\n",
       "    </tr>\n",
       "    <tr>\n",
       "      <td>Soft Drinks</td>\n",
       "      <td>80.0</td>\n",
       "      <td>8.928977e+05</td>\n",
       "    </tr>\n",
       "    <tr>\n",
       "      <td>Breads</td>\n",
       "      <td>45.0</td>\n",
       "      <td>5.532372e+05</td>\n",
       "    </tr>\n",
       "    <tr>\n",
       "      <td>Hard Drinks</td>\n",
       "      <td>40.0</td>\n",
       "      <td>4.577934e+05</td>\n",
       "    </tr>\n",
       "    <tr>\n",
       "      <td>Others</td>\n",
       "      <td>30.0</td>\n",
       "      <td>3.255176e+05</td>\n",
       "    </tr>\n",
       "    <tr>\n",
       "      <td>Starchy Foods</td>\n",
       "      <td>30.0</td>\n",
       "      <td>3.514013e+05</td>\n",
       "    </tr>\n",
       "    <tr>\n",
       "      <td>Breakfast</td>\n",
       "      <td>20.0</td>\n",
       "      <td>2.322990e+05</td>\n",
       "    </tr>\n",
       "    <tr>\n",
       "      <td>Seafood</td>\n",
       "      <td>10.0</td>\n",
       "      <td>1.488682e+05</td>\n",
       "    </tr>\n",
       "  </tbody>\n",
       "</table>\n",
       "</div>"
      ],
      "text/plain": [
       "                       nu of items in every item_type  total sale by them\n",
       "Fruits and Vegetables                           220.0        2.820060e+06\n",
       "Snack Foods                                     220.0        2.732786e+06\n",
       "Household                                       170.0        2.055494e+06\n",
       "Frozen Foods                                    155.0        1.825735e+06\n",
       "Dairy                                           125.0        1.522594e+06\n",
       "Canned                                          120.0        1.444151e+06\n",
       "Baking Goods                                    119.0        1.265525e+06\n",
       "Health and Hygiene                               95.0        1.045200e+06\n",
       "Meat                                             80.0        9.175656e+05\n",
       "Soft Drinks                                      80.0        8.928977e+05\n",
       "Breads                                           45.0        5.532372e+05\n",
       "Hard Drinks                                      40.0        4.577934e+05\n",
       "Others                                           30.0        3.255176e+05\n",
       "Starchy Foods                                    30.0        3.514013e+05\n",
       "Breakfast                                        20.0        2.322990e+05\n",
       "Seafood                                          10.0        1.488682e+05"
      ]
     },
     "execution_count": 16,
     "metadata": {},
     "output_type": "execute_result"
    }
   ],
   "source": [
    "dict_ = {}\n",
    "for i in set(df['Item_Type']):\n",
    "    dict_[i] = [df[df['Item_Type'] == i]['Item_Identifier'].nunique(),df[df['Item_Type'] == i]['Item_Outlet_Sales'].sum()]\n",
    "temp =pd.DataFrame(dict_)\n",
    "temp = temp.T\n",
    "temp.rename(columns = {0:'nu of items in every item_type', 1: 'total sale by them'}, inplace = True)\n",
    "temp.sort_values(by=['nu of items in every item_type'], ascending = False )"
   ]
  },
  {
   "cell_type": "markdown",
   "metadata": {},
   "source": [
    "#### This hypothesis is true because which item type has more variety or types in itself......that's good "
   ]
  },
  {
   "cell_type": "code",
   "execution_count": 17,
   "metadata": {},
   "outputs": [],
   "source": [
    "df1['Item_Type'] = df1['Item_Type'].map(temp['nu of items in every item_type'].to_dict())"
   ]
  },
  {
   "cell_type": "code",
   "execution_count": 18,
   "metadata": {},
   "outputs": [],
   "source": [
    "df1['Outlet_Size'] = df1['Outlet_Size'].map((df1.groupby(['Outlet_Size'])['Item_Outlet_Sales'].sum()/df1.groupby(['Outlet_Size'])['Item_Outlet_Sales'].count()).to_dict())"
   ]
  },
  {
   "cell_type": "code",
   "execution_count": 19,
   "metadata": {},
   "outputs": [
    {
     "data": {
      "text/plain": [
       "Item_Outlet_Sales            1.000000\n",
       "Item_MRP                     0.567574\n",
       "Outlet_Type                  0.489464\n",
       "Outlet_Size                  0.218555\n",
       "Item_Type                    0.038250\n",
       "Item_Weight                  0.011550\n",
       "Outlet_Establishment_Year   -0.049135\n",
       "Item_Visibility             -0.128625\n",
       "Name: Item_Outlet_Sales, dtype: float64"
      ]
     },
     "execution_count": 19,
     "metadata": {},
     "output_type": "execute_result"
    }
   ],
   "source": [
    "df1.corr()['Item_Outlet_Sales'].sort_values(ascending = False)"
   ]
  },
  {
   "cell_type": "markdown",
   "metadata": {},
   "source": [
    "#### Not related diretly but by adding effect of outlet_size and location it has good relation"
   ]
  },
  {
   "cell_type": "code",
   "execution_count": 20,
   "metadata": {},
   "outputs": [],
   "source": [
    "df1['Outlet_size+Item_Type'] = df1['Outlet_Size'] + df1['Item_Type']"
   ]
  },
  {
   "cell_type": "code",
   "execution_count": 29,
   "metadata": {},
   "outputs": [
    {
     "data": {
      "text/plain": [
       "Item_Outlet_Sales            1.000000\n",
       "Item_MRP                     0.567574\n",
       "Outlet_Type                  0.489464\n",
       "Outlet_size+Item_Type        0.221581\n",
       "Outlet_Size                  0.218555\n",
       "Outlet_Location_Type         0.062709\n",
       "Item_Type                    0.038250\n",
       "Item_Weight                  0.011550\n",
       "Outlet_Establishment_Year   -0.049135\n",
       "Item_Visibility             -0.128625\n",
       "Name: Item_Outlet_Sales, dtype: float64"
      ]
     },
     "execution_count": 29,
     "metadata": {},
     "output_type": "execute_result"
    }
   ],
   "source": [
    "df1.corr()['Item_Outlet_Sales'].sort_values(ascending = False)"
   ]
  },
  {
   "cell_type": "markdown",
   "metadata": {},
   "source": [
    "### Item_Location_Type\n",
    "Wo city jyada bdi and achi sale degi jga outlet jyada hoge or un outlet pr saman kitti trah ka milta h ho skta h glosery store hi ho 4 but saman me verity na ho to wo itta shi city nhi hoga\n",
    "\n",
    "Measure sale in location = nu of outlet in city * varity of items at every outlet"
   ]
  },
  {
   "cell_type": "code",
   "execution_count": 22,
   "metadata": {},
   "outputs": [
    {
     "data": {
      "text/plain": [
       "Outlet_Location_Type\n",
       "Tier 1    4.482059e+06\n",
       "Tier 2    6.472314e+06\n",
       "Tier 3    7.636753e+06\n",
       "Name: Item_Outlet_Sales, dtype: float64"
      ]
     },
     "execution_count": 22,
     "metadata": {},
     "output_type": "execute_result"
    }
   ],
   "source": [
    "df1.groupby(['Outlet_Location_Type'])['Item_Outlet_Sales'].sum()"
   ]
  },
  {
   "cell_type": "code",
   "execution_count": 23,
   "metadata": {},
   "outputs": [
    {
     "data": {
      "text/html": [
       "<div>\n",
       "<style scoped>\n",
       "    .dataframe tbody tr th:only-of-type {\n",
       "        vertical-align: middle;\n",
       "    }\n",
       "\n",
       "    .dataframe tbody tr th {\n",
       "        vertical-align: top;\n",
       "    }\n",
       "\n",
       "    .dataframe thead th {\n",
       "        text-align: right;\n",
       "    }\n",
       "</style>\n",
       "<table border=\"1\" class=\"dataframe\">\n",
       "  <thead>\n",
       "    <tr style=\"text-align: right;\">\n",
       "      <th></th>\n",
       "      <th>Outlet_Location_Type</th>\n",
       "      <th>Outlet_Identifier</th>\n",
       "      <th>Item_Identifier</th>\n",
       "    </tr>\n",
       "  </thead>\n",
       "  <tbody>\n",
       "    <tr>\n",
       "      <td>0</td>\n",
       "      <td>Tier 1</td>\n",
       "      <td>OUT019</td>\n",
       "      <td>528</td>\n",
       "    </tr>\n",
       "    <tr>\n",
       "      <td>1</td>\n",
       "      <td>Tier 1</td>\n",
       "      <td>OUT046</td>\n",
       "      <td>930</td>\n",
       "    </tr>\n",
       "    <tr>\n",
       "      <td>2</td>\n",
       "      <td>Tier 1</td>\n",
       "      <td>OUT049</td>\n",
       "      <td>930</td>\n",
       "    </tr>\n",
       "    <tr>\n",
       "      <td>3</td>\n",
       "      <td>Tier 2</td>\n",
       "      <td>OUT017</td>\n",
       "      <td>926</td>\n",
       "    </tr>\n",
       "    <tr>\n",
       "      <td>4</td>\n",
       "      <td>Tier 2</td>\n",
       "      <td>OUT035</td>\n",
       "      <td>930</td>\n",
       "    </tr>\n",
       "    <tr>\n",
       "      <td>5</td>\n",
       "      <td>Tier 2</td>\n",
       "      <td>OUT045</td>\n",
       "      <td>929</td>\n",
       "    </tr>\n",
       "    <tr>\n",
       "      <td>6</td>\n",
       "      <td>Tier 3</td>\n",
       "      <td>OUT010</td>\n",
       "      <td>555</td>\n",
       "    </tr>\n",
       "    <tr>\n",
       "      <td>7</td>\n",
       "      <td>Tier 3</td>\n",
       "      <td>OUT013</td>\n",
       "      <td>932</td>\n",
       "    </tr>\n",
       "    <tr>\n",
       "      <td>8</td>\n",
       "      <td>Tier 3</td>\n",
       "      <td>OUT018</td>\n",
       "      <td>928</td>\n",
       "    </tr>\n",
       "    <tr>\n",
       "      <td>9</td>\n",
       "      <td>Tier 3</td>\n",
       "      <td>OUT027</td>\n",
       "      <td>935</td>\n",
       "    </tr>\n",
       "  </tbody>\n",
       "</table>\n",
       "</div>"
      ],
      "text/plain": [
       "  Outlet_Location_Type Outlet_Identifier  Item_Identifier\n",
       "0               Tier 1            OUT019              528\n",
       "1               Tier 1            OUT046              930\n",
       "2               Tier 1            OUT049              930\n",
       "3               Tier 2            OUT017              926\n",
       "4               Tier 2            OUT035              930\n",
       "5               Tier 2            OUT045              929\n",
       "6               Tier 3            OUT010              555\n",
       "7               Tier 3            OUT013              932\n",
       "8               Tier 3            OUT018              928\n",
       "9               Tier 3            OUT027              935"
      ]
     },
     "execution_count": 23,
     "metadata": {},
     "output_type": "execute_result"
    }
   ],
   "source": [
    "df1.groupby(['Outlet_Location_Type','Outlet_Identifier'])['Item_Identifier'].count().reset_index()"
   ]
  },
  {
   "cell_type": "code",
   "execution_count": 24,
   "metadata": {},
   "outputs": [
    {
     "data": {
      "text/plain": [
       "Outlet_Location_Type\n",
       "Tier 1    3\n",
       "Tier 2    3\n",
       "Tier 3    4\n",
       "Name: Outlet_Identifier, dtype: int64"
      ]
     },
     "execution_count": 24,
     "metadata": {},
     "output_type": "execute_result"
    }
   ],
   "source": [
    "df1.groupby(['Outlet_Location_Type'])['Outlet_Identifier'].nunique()"
   ]
  },
  {
   "cell_type": "code",
   "execution_count": 25,
   "metadata": {},
   "outputs": [
    {
     "data": {
      "text/plain": [
       "Outlet_Location_Type\n",
       "Tier 1     7164\n",
       "Tier 2     8355\n",
       "Tier 3    13400\n",
       "dtype: int64"
      ]
     },
     "execution_count": 25,
     "metadata": {},
     "output_type": "execute_result"
    }
   ],
   "source": [
    "df1.groupby(['Outlet_Location_Type','Outlet_Identifier'])['Item_Identifier'].count().reset_index().groupby('Outlet_Location_Type')['Item_Identifier'].sum()*df1.groupby(['Outlet_Location_Type'])['Outlet_Identifier'].nunique()"
   ]
  },
  {
   "cell_type": "code",
   "execution_count": 26,
   "metadata": {},
   "outputs": [
    {
     "data": {
      "text/plain": [
       "Outlet_Location_Type\n",
       "Tier 1    4.482059e+06\n",
       "Tier 2    6.472314e+06\n",
       "Tier 3    7.636753e+06\n",
       "Name: Item_Outlet_Sales, dtype: float64"
      ]
     },
     "execution_count": 26,
     "metadata": {},
     "output_type": "execute_result"
    }
   ],
   "source": [
    "df1.groupby(['Outlet_Location_Type'])['Item_Outlet_Sales'].sum()"
   ]
  },
  {
   "cell_type": "markdown",
   "metadata": {},
   "source": [
    "#### so this hypothesis is true we can see total sale of every location is depends on nu of outlet and nu of verity in \n",
    "#### items at there outlets"
   ]
  },
  {
   "cell_type": "code",
   "execution_count": 28,
   "metadata": {},
   "outputs": [],
   "source": [
    "df1['Outlet_Location_Type'] = df1['Outlet_Location_Type'].map((df1.groupby(['Outlet_Location_Type','Outlet_Identifier'])['Item_Identifier'].count().reset_index().groupby('Outlet_Location_Type')['Item_Identifier'].sum()*df1.groupby(['Outlet_Location_Type'])['Outlet_Identifier'].nunique()).to_dict())"
   ]
  },
  {
   "cell_type": "code",
   "execution_count": 62,
   "metadata": {},
   "outputs": [],
   "source": [
    "df1['Store_running_from'] = df1['Outlet_Establishment_Year'].map(lambda x : 2013 - x)"
   ]
  },
  {
   "cell_type": "markdown",
   "metadata": {},
   "source": [
    "#### Cheacking multy colinearity"
   ]
  },
  {
   "cell_type": "code",
   "execution_count": 64,
   "metadata": {},
   "outputs": [
    {
     "data": {
      "text/plain": [
       "Item_Outlet_Sales                          1.000000\n",
       "Item_MRP                                   0.567574\n",
       "Outlet_Type                                0.489464\n",
       "Out_type+size                              0.465232\n",
       "Outlet_Identifier_encoded                  0.415103\n",
       "Outlet_Size                                0.218555\n",
       "Outlet_Location_Type+out_type+item_type    0.195036\n",
       "Outlet_Location_Type                       0.062709\n",
       "Out_encoded+year                           0.053394\n",
       "Store_running_from                         0.049135\n",
       "Item_Type                                  0.038250\n",
       "Item_Weight                                0.011550\n",
       "Outlet_Establishment_Year                 -0.049135\n",
       "Item_Visibility                           -0.128625\n",
       "Name: Item_Outlet_Sales, dtype: float64"
      ]
     },
     "execution_count": 64,
     "metadata": {},
     "output_type": "execute_result"
    }
   ],
   "source": [
    "df1.corr()['Item_Outlet_Sales'].sort_values(ascending = False)"
   ]
  },
  {
   "cell_type": "code",
   "execution_count": 39,
   "metadata": {},
   "outputs": [],
   "source": [
    "df1['Out_type+size'] = df1['Outlet_Type']+ df1['Outlet_Size']"
   ]
  },
  {
   "cell_type": "code",
   "execution_count": 48,
   "metadata": {},
   "outputs": [],
   "source": [
    "df1['Outlet_Location_Type+out_type+item_type'] = df1['Outlet_Location_Type']+df1['Outlet_Type']+df1['Item_ype']"
   ]
  },
  {
   "cell_type": "code",
   "execution_count": 58,
   "metadata": {},
   "outputs": [],
   "source": [
    "df1['Outlet_Identifier_encoded'] = df1['Outlet_Identifier'].map((df1.groupby(['Outlet_Identifier'])['Item_Identifier'].count()/df1['Item_Identifier'].nunique()).to_dict())"
   ]
  },
  {
   "cell_type": "code",
   "execution_count": 53,
   "metadata": {},
   "outputs": [],
   "source": [
    "df1['Item_Type+wt'] = df1['Item_Type'] + df1['Item_Weight']\n",
    "df1['Item_Type+Item_Visibility'] = df1['Item_Type'] + df1['Item_Visibility']\n",
    "df1['Item_Visibility+Item_Weight'] = df1['Item_Visibility'] + df1['Item_Weight']"
   ]
  },
  {
   "cell_type": "code",
   "execution_count": 63,
   "metadata": {},
   "outputs": [],
   "source": [
    "df1['Out_encoded+year'] = df1['Outlet_Identifier_encoded'] + df1['Store_running_from']\n"
   ]
  },
  {
   "cell_type": "code",
   "execution_count": 55,
   "metadata": {},
   "outputs": [],
   "source": [
    "df1.drop(['Outlet_Location_Type1', 'Item_Type+wt', 'Item_Type+Item_Visibility', 'Item_Visibility+Item_Weight'], axis = 1,inplace = True)"
   ]
  },
  {
   "cell_type": "code",
   "execution_count": 68,
   "metadata": {},
   "outputs": [
    {
     "data": {
      "text/html": [
       "<div>\n",
       "<style scoped>\n",
       "    .dataframe tbody tr th:only-of-type {\n",
       "        vertical-align: middle;\n",
       "    }\n",
       "\n",
       "    .dataframe tbody tr th {\n",
       "        vertical-align: top;\n",
       "    }\n",
       "\n",
       "    .dataframe thead th {\n",
       "        text-align: right;\n",
       "    }\n",
       "</style>\n",
       "<table border=\"1\" class=\"dataframe\">\n",
       "  <thead>\n",
       "    <tr style=\"text-align: right;\">\n",
       "      <th></th>\n",
       "      <th>Item_Weight</th>\n",
       "      <th>Item_Visibility</th>\n",
       "      <th>Item_Type</th>\n",
       "      <th>Item_MRP</th>\n",
       "      <th>Outlet_Establishment_Year</th>\n",
       "      <th>Outlet_Size</th>\n",
       "      <th>Outlet_Location_Type</th>\n",
       "      <th>Outlet_Type</th>\n",
       "      <th>Item_Outlet_Sales</th>\n",
       "      <th>Out_type+size</th>\n",
       "      <th>Outlet_Location_Type+out_type+item_type</th>\n",
       "      <th>Outlet_Identifier_encoded</th>\n",
       "      <th>Store_running_from</th>\n",
       "      <th>Out_encoded+year</th>\n",
       "    </tr>\n",
       "  </thead>\n",
       "  <tbody>\n",
       "    <tr>\n",
       "      <td>Item_Weight</td>\n",
       "      <td>1.000000</td>\n",
       "      <td>-0.012049</td>\n",
       "      <td>0.049582</td>\n",
       "      <td>0.024756</td>\n",
       "      <td>-0.008301</td>\n",
       "      <td>0.008705</td>\n",
       "      <td>0.008523</td>\n",
       "      <td>-0.002179</td>\n",
       "      <td>0.011550</td>\n",
       "      <td>0.001353</td>\n",
       "      <td>0.008287</td>\n",
       "      <td>-0.002360</td>\n",
       "      <td>0.008301</td>\n",
       "      <td>0.008300</td>\n",
       "    </tr>\n",
       "    <tr>\n",
       "      <td>Item_Visibility</td>\n",
       "      <td>-0.012049</td>\n",
       "      <td>1.000000</td>\n",
       "      <td>0.008205</td>\n",
       "      <td>-0.001315</td>\n",
       "      <td>-0.074834</td>\n",
       "      <td>-0.098242</td>\n",
       "      <td>-0.003259</td>\n",
       "      <td>-0.247928</td>\n",
       "      <td>-0.128625</td>\n",
       "      <td>-0.231244</td>\n",
       "      <td>-0.071885</td>\n",
       "      <td>-0.287298</td>\n",
       "      <td>0.074834</td>\n",
       "      <td>0.072180</td>\n",
       "    </tr>\n",
       "    <tr>\n",
       "      <td>Item_Type</td>\n",
       "      <td>0.049582</td>\n",
       "      <td>0.008205</td>\n",
       "      <td>1.000000</td>\n",
       "      <td>0.055581</td>\n",
       "      <td>-0.000702</td>\n",
       "      <td>0.008012</td>\n",
       "      <td>0.002239</td>\n",
       "      <td>0.011934</td>\n",
       "      <td>0.038250</td>\n",
       "      <td>0.012293</td>\n",
       "      <td>0.025923</td>\n",
       "      <td>0.011662</td>\n",
       "      <td>0.000702</td>\n",
       "      <td>0.000819</td>\n",
       "    </tr>\n",
       "    <tr>\n",
       "      <td>Item_MRP</td>\n",
       "      <td>0.024756</td>\n",
       "      <td>-0.001315</td>\n",
       "      <td>0.055581</td>\n",
       "      <td>1.000000</td>\n",
       "      <td>0.005020</td>\n",
       "      <td>-0.003742</td>\n",
       "      <td>-0.000424</td>\n",
       "      <td>-0.000551</td>\n",
       "      <td>0.567574</td>\n",
       "      <td>-0.001761</td>\n",
       "      <td>0.000596</td>\n",
       "      <td>0.004376</td>\n",
       "      <td>-0.005020</td>\n",
       "      <td>-0.004990</td>\n",
       "    </tr>\n",
       "    <tr>\n",
       "      <td>Outlet_Establishment_Year</td>\n",
       "      <td>-0.008301</td>\n",
       "      <td>-0.074834</td>\n",
       "      <td>-0.000702</td>\n",
       "      <td>0.005020</td>\n",
       "      <td>1.000000</td>\n",
       "      <td>-0.180583</td>\n",
       "      <td>-0.257937</td>\n",
       "      <td>-0.111576</td>\n",
       "      <td>-0.049135</td>\n",
       "      <td>-0.152324</td>\n",
       "      <td>-0.269436</td>\n",
       "      <td>0.276210</td>\n",
       "      <td>-1.000000</td>\n",
       "      <td>-0.999954</td>\n",
       "    </tr>\n",
       "    <tr>\n",
       "      <td>Outlet_Size</td>\n",
       "      <td>0.008705</td>\n",
       "      <td>-0.098242</td>\n",
       "      <td>0.008012</td>\n",
       "      <td>-0.003742</td>\n",
       "      <td>-0.180583</td>\n",
       "      <td>1.000000</td>\n",
       "      <td>0.495781</td>\n",
       "      <td>0.439944</td>\n",
       "      <td>0.218555</td>\n",
       "      <td>0.702510</td>\n",
       "      <td>0.580813</td>\n",
       "      <td>0.328560</td>\n",
       "      <td>0.180583</td>\n",
       "      <td>0.184337</td>\n",
       "    </tr>\n",
       "    <tr>\n",
       "      <td>Outlet_Location_Type</td>\n",
       "      <td>0.008523</td>\n",
       "      <td>-0.003259</td>\n",
       "      <td>0.002239</td>\n",
       "      <td>-0.000424</td>\n",
       "      <td>-0.257937</td>\n",
       "      <td>0.495781</td>\n",
       "      <td>1.000000</td>\n",
       "      <td>0.131951</td>\n",
       "      <td>0.062709</td>\n",
       "      <td>0.280007</td>\n",
       "      <td>0.960858</td>\n",
       "      <td>-0.026283</td>\n",
       "      <td>0.257937</td>\n",
       "      <td>0.258372</td>\n",
       "    </tr>\n",
       "    <tr>\n",
       "      <td>Outlet_Type</td>\n",
       "      <td>-0.002179</td>\n",
       "      <td>-0.247928</td>\n",
       "      <td>0.011934</td>\n",
       "      <td>-0.000551</td>\n",
       "      <td>-0.111576</td>\n",
       "      <td>0.439944</td>\n",
       "      <td>0.131951</td>\n",
       "      <td>1.000000</td>\n",
       "      <td>0.489464</td>\n",
       "      <td>0.948166</td>\n",
       "      <td>0.400651</td>\n",
       "      <td>0.848092</td>\n",
       "      <td>0.111576</td>\n",
       "      <td>0.120308</td>\n",
       "    </tr>\n",
       "    <tr>\n",
       "      <td>Item_Outlet_Sales</td>\n",
       "      <td>0.011550</td>\n",
       "      <td>-0.128625</td>\n",
       "      <td>0.038250</td>\n",
       "      <td>0.567574</td>\n",
       "      <td>-0.049135</td>\n",
       "      <td>0.218555</td>\n",
       "      <td>0.062709</td>\n",
       "      <td>0.489464</td>\n",
       "      <td>1.000000</td>\n",
       "      <td>0.465232</td>\n",
       "      <td>0.195036</td>\n",
       "      <td>0.415103</td>\n",
       "      <td>0.049135</td>\n",
       "      <td>0.053394</td>\n",
       "    </tr>\n",
       "    <tr>\n",
       "      <td>Out_type+size</td>\n",
       "      <td>0.001353</td>\n",
       "      <td>-0.231244</td>\n",
       "      <td>0.012293</td>\n",
       "      <td>-0.001761</td>\n",
       "      <td>-0.152324</td>\n",
       "      <td>0.702510</td>\n",
       "      <td>0.280007</td>\n",
       "      <td>0.948166</td>\n",
       "      <td>0.465232</td>\n",
       "      <td>1.000000</td>\n",
       "      <td>0.523037</td>\n",
       "      <td>0.788367</td>\n",
       "      <td>0.152324</td>\n",
       "      <td>0.160572</td>\n",
       "    </tr>\n",
       "    <tr>\n",
       "      <td>Outlet_Location_Type+out_type+item_type</td>\n",
       "      <td>0.008287</td>\n",
       "      <td>-0.071885</td>\n",
       "      <td>0.025923</td>\n",
       "      <td>0.000596</td>\n",
       "      <td>-0.269436</td>\n",
       "      <td>0.580813</td>\n",
       "      <td>0.960858</td>\n",
       "      <td>0.400651</td>\n",
       "      <td>0.195036</td>\n",
       "      <td>0.523037</td>\n",
       "      <td>1.000000</td>\n",
       "      <td>0.212124</td>\n",
       "      <td>0.269436</td>\n",
       "      <td>0.272273</td>\n",
       "    </tr>\n",
       "    <tr>\n",
       "      <td>Outlet_Identifier_encoded</td>\n",
       "      <td>-0.002360</td>\n",
       "      <td>-0.287298</td>\n",
       "      <td>0.011662</td>\n",
       "      <td>0.004376</td>\n",
       "      <td>0.276210</td>\n",
       "      <td>0.328560</td>\n",
       "      <td>-0.026283</td>\n",
       "      <td>0.848092</td>\n",
       "      <td>0.415103</td>\n",
       "      <td>0.788367</td>\n",
       "      <td>0.212124</td>\n",
       "      <td>1.000000</td>\n",
       "      <td>-0.276210</td>\n",
       "      <td>-0.267015</td>\n",
       "    </tr>\n",
       "    <tr>\n",
       "      <td>Store_running_from</td>\n",
       "      <td>0.008301</td>\n",
       "      <td>0.074834</td>\n",
       "      <td>0.000702</td>\n",
       "      <td>-0.005020</td>\n",
       "      <td>-1.000000</td>\n",
       "      <td>0.180583</td>\n",
       "      <td>0.257937</td>\n",
       "      <td>0.111576</td>\n",
       "      <td>0.049135</td>\n",
       "      <td>0.152324</td>\n",
       "      <td>0.269436</td>\n",
       "      <td>-0.276210</td>\n",
       "      <td>1.000000</td>\n",
       "      <td>0.999954</td>\n",
       "    </tr>\n",
       "    <tr>\n",
       "      <td>Out_encoded+year</td>\n",
       "      <td>0.008300</td>\n",
       "      <td>0.072180</td>\n",
       "      <td>0.000819</td>\n",
       "      <td>-0.004990</td>\n",
       "      <td>-0.999954</td>\n",
       "      <td>0.184337</td>\n",
       "      <td>0.258372</td>\n",
       "      <td>0.120308</td>\n",
       "      <td>0.053394</td>\n",
       "      <td>0.160572</td>\n",
       "      <td>0.272273</td>\n",
       "      <td>-0.267015</td>\n",
       "      <td>0.999954</td>\n",
       "      <td>1.000000</td>\n",
       "    </tr>\n",
       "  </tbody>\n",
       "</table>\n",
       "</div>"
      ],
      "text/plain": [
       "                                         Item_Weight  Item_Visibility  \\\n",
       "Item_Weight                                 1.000000        -0.012049   \n",
       "Item_Visibility                            -0.012049         1.000000   \n",
       "Item_Type                                   0.049582         0.008205   \n",
       "Item_MRP                                    0.024756        -0.001315   \n",
       "Outlet_Establishment_Year                  -0.008301        -0.074834   \n",
       "Outlet_Size                                 0.008705        -0.098242   \n",
       "Outlet_Location_Type                        0.008523        -0.003259   \n",
       "Outlet_Type                                -0.002179        -0.247928   \n",
       "Item_Outlet_Sales                           0.011550        -0.128625   \n",
       "Out_type+size                               0.001353        -0.231244   \n",
       "Outlet_Location_Type+out_type+item_type     0.008287        -0.071885   \n",
       "Outlet_Identifier_encoded                  -0.002360        -0.287298   \n",
       "Store_running_from                          0.008301         0.074834   \n",
       "Out_encoded+year                            0.008300         0.072180   \n",
       "\n",
       "                                         Item_Type  Item_MRP  \\\n",
       "Item_Weight                               0.049582  0.024756   \n",
       "Item_Visibility                           0.008205 -0.001315   \n",
       "Item_Type                                 1.000000  0.055581   \n",
       "Item_MRP                                  0.055581  1.000000   \n",
       "Outlet_Establishment_Year                -0.000702  0.005020   \n",
       "Outlet_Size                               0.008012 -0.003742   \n",
       "Outlet_Location_Type                      0.002239 -0.000424   \n",
       "Outlet_Type                               0.011934 -0.000551   \n",
       "Item_Outlet_Sales                         0.038250  0.567574   \n",
       "Out_type+size                             0.012293 -0.001761   \n",
       "Outlet_Location_Type+out_type+item_type   0.025923  0.000596   \n",
       "Outlet_Identifier_encoded                 0.011662  0.004376   \n",
       "Store_running_from                        0.000702 -0.005020   \n",
       "Out_encoded+year                          0.000819 -0.004990   \n",
       "\n",
       "                                         Outlet_Establishment_Year  \\\n",
       "Item_Weight                                              -0.008301   \n",
       "Item_Visibility                                          -0.074834   \n",
       "Item_Type                                                -0.000702   \n",
       "Item_MRP                                                  0.005020   \n",
       "Outlet_Establishment_Year                                 1.000000   \n",
       "Outlet_Size                                              -0.180583   \n",
       "Outlet_Location_Type                                     -0.257937   \n",
       "Outlet_Type                                              -0.111576   \n",
       "Item_Outlet_Sales                                        -0.049135   \n",
       "Out_type+size                                            -0.152324   \n",
       "Outlet_Location_Type+out_type+item_type                  -0.269436   \n",
       "Outlet_Identifier_encoded                                 0.276210   \n",
       "Store_running_from                                       -1.000000   \n",
       "Out_encoded+year                                         -0.999954   \n",
       "\n",
       "                                         Outlet_Size  Outlet_Location_Type  \\\n",
       "Item_Weight                                 0.008705              0.008523   \n",
       "Item_Visibility                            -0.098242             -0.003259   \n",
       "Item_Type                                   0.008012              0.002239   \n",
       "Item_MRP                                   -0.003742             -0.000424   \n",
       "Outlet_Establishment_Year                  -0.180583             -0.257937   \n",
       "Outlet_Size                                 1.000000              0.495781   \n",
       "Outlet_Location_Type                        0.495781              1.000000   \n",
       "Outlet_Type                                 0.439944              0.131951   \n",
       "Item_Outlet_Sales                           0.218555              0.062709   \n",
       "Out_type+size                               0.702510              0.280007   \n",
       "Outlet_Location_Type+out_type+item_type     0.580813              0.960858   \n",
       "Outlet_Identifier_encoded                   0.328560             -0.026283   \n",
       "Store_running_from                          0.180583              0.257937   \n",
       "Out_encoded+year                            0.184337              0.258372   \n",
       "\n",
       "                                         Outlet_Type  Item_Outlet_Sales  \\\n",
       "Item_Weight                                -0.002179           0.011550   \n",
       "Item_Visibility                            -0.247928          -0.128625   \n",
       "Item_Type                                   0.011934           0.038250   \n",
       "Item_MRP                                   -0.000551           0.567574   \n",
       "Outlet_Establishment_Year                  -0.111576          -0.049135   \n",
       "Outlet_Size                                 0.439944           0.218555   \n",
       "Outlet_Location_Type                        0.131951           0.062709   \n",
       "Outlet_Type                                 1.000000           0.489464   \n",
       "Item_Outlet_Sales                           0.489464           1.000000   \n",
       "Out_type+size                               0.948166           0.465232   \n",
       "Outlet_Location_Type+out_type+item_type     0.400651           0.195036   \n",
       "Outlet_Identifier_encoded                   0.848092           0.415103   \n",
       "Store_running_from                          0.111576           0.049135   \n",
       "Out_encoded+year                            0.120308           0.053394   \n",
       "\n",
       "                                         Out_type+size  \\\n",
       "Item_Weight                                   0.001353   \n",
       "Item_Visibility                              -0.231244   \n",
       "Item_Type                                     0.012293   \n",
       "Item_MRP                                     -0.001761   \n",
       "Outlet_Establishment_Year                    -0.152324   \n",
       "Outlet_Size                                   0.702510   \n",
       "Outlet_Location_Type                          0.280007   \n",
       "Outlet_Type                                   0.948166   \n",
       "Item_Outlet_Sales                             0.465232   \n",
       "Out_type+size                                 1.000000   \n",
       "Outlet_Location_Type+out_type+item_type       0.523037   \n",
       "Outlet_Identifier_encoded                     0.788367   \n",
       "Store_running_from                            0.152324   \n",
       "Out_encoded+year                              0.160572   \n",
       "\n",
       "                                         Outlet_Location_Type+out_type+item_type  \\\n",
       "Item_Weight                                                             0.008287   \n",
       "Item_Visibility                                                        -0.071885   \n",
       "Item_Type                                                               0.025923   \n",
       "Item_MRP                                                                0.000596   \n",
       "Outlet_Establishment_Year                                              -0.269436   \n",
       "Outlet_Size                                                             0.580813   \n",
       "Outlet_Location_Type                                                    0.960858   \n",
       "Outlet_Type                                                             0.400651   \n",
       "Item_Outlet_Sales                                                       0.195036   \n",
       "Out_type+size                                                           0.523037   \n",
       "Outlet_Location_Type+out_type+item_type                                 1.000000   \n",
       "Outlet_Identifier_encoded                                               0.212124   \n",
       "Store_running_from                                                      0.269436   \n",
       "Out_encoded+year                                                        0.272273   \n",
       "\n",
       "                                         Outlet_Identifier_encoded  \\\n",
       "Item_Weight                                              -0.002360   \n",
       "Item_Visibility                                          -0.287298   \n",
       "Item_Type                                                 0.011662   \n",
       "Item_MRP                                                  0.004376   \n",
       "Outlet_Establishment_Year                                 0.276210   \n",
       "Outlet_Size                                               0.328560   \n",
       "Outlet_Location_Type                                     -0.026283   \n",
       "Outlet_Type                                               0.848092   \n",
       "Item_Outlet_Sales                                         0.415103   \n",
       "Out_type+size                                             0.788367   \n",
       "Outlet_Location_Type+out_type+item_type                   0.212124   \n",
       "Outlet_Identifier_encoded                                 1.000000   \n",
       "Store_running_from                                       -0.276210   \n",
       "Out_encoded+year                                         -0.267015   \n",
       "\n",
       "                                         Store_running_from  Out_encoded+year  \n",
       "Item_Weight                                        0.008301          0.008300  \n",
       "Item_Visibility                                    0.074834          0.072180  \n",
       "Item_Type                                          0.000702          0.000819  \n",
       "Item_MRP                                          -0.005020         -0.004990  \n",
       "Outlet_Establishment_Year                         -1.000000         -0.999954  \n",
       "Outlet_Size                                        0.180583          0.184337  \n",
       "Outlet_Location_Type                               0.257937          0.258372  \n",
       "Outlet_Type                                        0.111576          0.120308  \n",
       "Item_Outlet_Sales                                  0.049135          0.053394  \n",
       "Out_type+size                                      0.152324          0.160572  \n",
       "Outlet_Location_Type+out_type+item_type            0.269436          0.272273  \n",
       "Outlet_Identifier_encoded                         -0.276210         -0.267015  \n",
       "Store_running_from                                 1.000000          0.999954  \n",
       "Out_encoded+year                                   0.999954          1.000000  "
      ]
     },
     "execution_count": 68,
     "metadata": {},
     "output_type": "execute_result"
    }
   ],
   "source": [
    "df1.corr()"
   ]
  },
  {
   "cell_type": "code",
   "execution_count": 67,
   "metadata": {},
   "outputs": [
    {
     "data": {
      "text/plain": [
       "<matplotlib.axes._subplots.AxesSubplot at 0xdf26ef0>"
      ]
     },
     "execution_count": 67,
     "metadata": {},
     "output_type": "execute_result"
    },
    {
     "data": {
      "image/png": "[encoded data removed]",
      "text/plain": [
       "<Figure size 504x504 with 2 Axes>"
      ]
     },
     "metadata": {},
     "output_type": "display_data"
    }
   ],
   "source": [
    "plt.figure(figsize = (7,7))\n",
    "sns.heatmap(df1.corr())"
   ]
  },
  {
   "cell_type": "markdown",
   "metadata": {},
   "source": [
    "#### corr(method = spearman)"
   ]
  },
  {
   "cell_type": "code",
   "execution_count": 69,
   "metadata": {},
   "outputs": [
    {
     "data": {
      "text/plain": [
       "<matplotlib.axes._subplots.AxesSubplot at 0x2a78450>"
      ]
     },
     "execution_count": 69,
     "metadata": {},
     "output_type": "execute_result"
    },
    {
     "data": {
      "image/png": "[encoded data removed]",
      "text/plain": [
       "<Figure size 504x504 with 2 Axes>"
      ]
     },
     "metadata": {},
     "output_type": "display_data"
    }
   ],
   "source": [
    "plt.figure(figsize = (7,7))\n",
    "sns.heatmap(df1.corr(method = 'spearman'))"
   ]
  },
  {
   "cell_type": "code",
   "execution_count": null,
   "metadata": {},
   "outputs": [],
   "source": []
  },
  {
   "cell_type": "markdown",
   "metadata": {},
   "source": [
    "## After stastical and domain based hypothesis testing, encoding, Feature selection and model selection and hyper peramter tuning which are not in it.....\n",
    "tryed models are Linear regression, Ridge, D.T., RandomForest, GB boosting"
   ]
  },
  {
   "cell_type": "code",
   "execution_count": 72,
   "metadata": {},
   "outputs": [
    {
     "name": "stdout",
     "output_type": "stream",
     "text": [
      "0.6173266519873647\n",
      "0.6173446338863918\n",
      "[0.55002031 0.22828177 0.20867892 0.00452282 0.00849619]\n",
      "1019.8263729317113\n"
     ]
    }
   ],
   "source": [
    "x = df1[['Item_MRP', 'Outlet_Type', 'Outlet_Identifier_encoded','Item_Type','Item_Visibility']]\n",
    "y = df1['Item_Outlet_Sales']\n",
    "x_train,x_test, y_train, y_test = train_test_split(x, y, random_state = 42, test_size = 0.2)\n",
    "\n",
    "model = RandomForestRegressor(random_state = 42, criterion = 'mse', max_depth = 6, min_samples_leaf = 10,\n",
    "                              max_features = 'auto', n_estimators = 80)\n",
    "\n",
    "model.fit(x_train, y_train)\n",
    "pred = model.predict(x_test)\n",
    "print(model.score(x_train, y_train))\n",
    "print(model.score(x_test, y_test))\n",
    "print(model.feature_importances_)\n",
    "print(np.sqrt(metrics.mean_squared_error(y_test, pred)))"
   ]
  },
  {
   "cell_type": "code",
   "execution_count": null,
   "metadata": {},
   "outputs": [],
   "source": []
  },
  {
   "cell_type": "code",
   "execution_count": null,
   "metadata": {},
   "outputs": [],
   "source": []
  },
  {
   "cell_type": "code",
   "execution_count": null,
   "metadata": {},
   "outputs": [],
   "source": []
  },
  {
   "cell_type": "code",
   "execution_count": null,
   "metadata": {},
   "outputs": [],
   "source": []
  },
  {
   "cell_type": "code",
   "execution_count": null,
   "metadata": {},
   "outputs": [],
   "source": []
  }
 ],
 "metadata": {
  "kernelspec": {
   "display_name": "Python 3",
   "language": "python",
   "name": "python3"
  },
  "language_info": {
   "codemirror_mode": {
    "name": "ipython",
    "version": 3
   },
   "file_extension": ".py",
   "mimetype": "text/x-python",
   "name": "python",
   "nbconvert_exporter": "python",
   "pygments_lexer": "ipython3",
   "version": "3.5.3"
  }
 },
 "nbformat": 4,
 "nbformat_minor": 2
}
