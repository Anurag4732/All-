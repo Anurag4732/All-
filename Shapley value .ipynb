{
 "cells": [
  {
   "cell_type": "markdown",
   "metadata": {},
   "source": [
    "### Cooperative game theory and Shapley value"
   ]
  },
  {
   "cell_type": "markdown",
   "metadata": {},
   "source": [
    "#### 1. About"
   ]
  },
  {
   "cell_type": "markdown",
   "metadata": {},
   "source": [
    "\n",
    "    A cooperative game (or coalitional game) is a game with competition between groups of players (\"coalitions\") \n",
    "                                                ||\n",
    "                                                \\/\n",
    "    In cooperative game the total skill of whole group matters or we compare two gropups\n",
    "    In non-cooperative game importance comes by individual playes\n",
    "                                                ||\n",
    "                                                \\/\n",
    "    Cooperative games are often analysed through the framework of cooperative game theory, which focuses on predicting\n",
    "    which coalitions will form, the joint actions that groups take and the resulting collective payoffs. \n",
    "    It is opposed to the traditional non-cooperative game theory which focuses on predicting individual players' actions \n",
    "    and payoffs and analyzing Nash equilibria.\n",
    "    In cooperative game theory we use shapley value to find importance of eace player in the group.\n",
    "                                                ||\n",
    "                                                \\/\n",
    "    The Shapley value is the average expected marginal contribution of one player after all possible\n",
    "    combinations have been considered\n",
    "    or\n",
    "    finding each player’s marginal contribution, averaged over every possible sequence in which the players\n",
    "    could have been added to the group.\n",
    "    Marginal Contribution:- The contribution margin is computed as the selling price per unit, minus the variable cost per unit\n",
    "    \n",
    "\n",
    "    "
   ]
  },
  {
   "cell_type": "markdown",
   "metadata": {},
   "source": [
    "#### 2. The Shapley Value in Detail"
   ]
  },
  {
   "cell_type": "markdown",
   "metadata": {},
   "source": [
    "    We are interested in how each feature affects the prediction of a data point. In a linear model it is easy \n",
    "    to calculate the individual effects.Here is what a linear model prediction looks like for one data instance:-\n",
    "        prediction = f(x) = b0 + b1*x1 + b2*x2 + ....\n",
    "        \n",
    "    x        = where x is the instance for which we want to compute the contributions\n",
    "    b1,b2..  = weight corresponding to feature\n",
    "    x1, x2.. = feature value\n",
    "    \n",
    "    contribution of Nth feature in prediction is =  bN*xN - E(bN*xN) \n",
    "                                                 =  The contribution is the difference between the feature effect minus \n",
    "                                                    the average effect\n",
    "                            \n",
    "    "
   ]
  },
  {
   "cell_type": "markdown",
   "metadata": {},
   "source": [
    "#### Shapley value"
   ]
  },
  {
   "cell_type": "code",
   "execution_count": null,
   "metadata": {},
   "outputs": [],
   "source": [
    "    The Shapley value is defined via a value function val of players in S.\n",
    "\n",
    "    The Shapley value of a feature value is its contribution to the payout, weighted and summed over all possible feature value\n",
    "    combinations:-\n",
    "        \n",
    "            1/fact(N) sum((fact(|S|) fact(|N| - |S| - 1))[s with i - s without i]\n",
    "             \n",
    "            where \n",
    "                         [s with i - s without i]            = marginal contribution of i\n",
    "                         sum((fact(|S|) fact(|N| - |S| - 1)) = Different  combination of marginal combination\n",
    "                         N = nu of players\n",
    "                             \n",
    "    This capture marginal contribution of player i, averging over all\n",
    "    the diff. sequences according to which the grand coalition could\n",
    "    be built up.\n",
    "                          \n",
    "                          \n",
    "                          "
   ]
  },
  {
   "cell_type": "code",
   "execution_count": null,
   "metadata": {},
   "outputs": [],
   "source": []
  },
  {
   "cell_type": "markdown",
   "metadata": {},
   "source": [
    "#### 3. Implementation"
   ]
  },
  {
   "cell_type": "code",
   "execution_count": 2,
   "metadata": {},
   "outputs": [],
   "source": [
    "# Import package:- \n",
    "import pandas as pd\n",
    "import numpy as np\n",
    "from sklearn.ensemble import GradientBoostingClassifier\n",
    "from sklearn.model_selection import train_test_split\n",
    "from sklearn.metrics import classification_report, confusion_matrix, roc_curve, auc\n",
    "from sklearn import metrics"
   ]
  },
  {
   "cell_type": "code",
   "execution_count": null,
   "metadata": {},
   "outputs": [],
   "source": [
    "# About the data:-\n",
    "# here we have four channels and if user see any channel then we create a meeting."
   ]
  },
  {
   "cell_type": "code",
   "execution_count": 4,
   "metadata": {},
   "outputs": [],
   "source": [
    "# Read the default data:-\n",
    "df = pd.read_csv('Data1.csv')"
   ]
  },
  {
   "cell_type": "code",
   "execution_count": 79,
   "metadata": {},
   "outputs": [
    {
     "name": "stdout",
     "output_type": "stream",
     "text": [
      "0.6650399376582895\n",
      "0.6649035651665692\n",
      "Confusion Matrix:\n",
      "[[12502  4714]\n",
      " [ 6753 10251]]\n",
      "\n",
      "Classification Report\n",
      "              precision    recall  f1-score   support\n",
      "\n",
      "         0.0       0.65      0.73      0.69     17216\n",
      "         1.0       0.68      0.60      0.64     17004\n",
      "\n",
      "    accuracy                           0.66     34220\n",
      "   macro avg       0.67      0.66      0.66     34220\n",
      "weighted avg       0.67      0.66      0.66     34220\n",
      "\n"
     ]
    }
   ],
   "source": [
    "# Made a model for find feature importance of every powerset element for model testing:-\n",
    "model = GradientBoostingClassifier(random_state = 42)\n",
    "x = df.iloc[:,1:]\n",
    "y = df.iloc[:,0]\n",
    "x_train, x_test, y_train, y_test = train_test_split(x, y, random_state = 42)\n",
    "model.fit(x_train, y_train)\n",
    "pred=model.predict(x_test)\n",
    "\n",
    "print(model.score(x_train, y_train))\n",
    "print(model.score(x_test, y_test))\n",
    "print(\"Confusion Matrix:\")\n",
    "print(confusion_matrix(y_test, pred))\n",
    "print()\n",
    "print(\"Classification Report\")\n",
    "print(classification_report(y_test, pred))\n"
   ]
  },
  {
   "cell_type": "code",
   "execution_count": 80,
   "metadata": {},
   "outputs": [
    {
     "data": {
      "text/plain": [
       "[(),\n",
       " ('Channel_0',),\n",
       " ('Channel_1',),\n",
       " ('Channel_2',),\n",
       " ('Channel3',),\n",
       " ('Channel4',),\n",
       " ('Channel_0', 'Channel_1'),\n",
       " ('Channel_0', 'Channel_2'),\n",
       " ('Channel_0', 'Channel3'),\n",
       " ('Channel_0', 'Channel4'),\n",
       " ('Channel_1', 'Channel_2'),\n",
       " ('Channel_1', 'Channel3'),\n",
       " ('Channel_1', 'Channel4'),\n",
       " ('Channel_2', 'Channel3'),\n",
       " ('Channel_2', 'Channel4'),\n",
       " ('Channel3', 'Channel4'),\n",
       " ('Channel_0', 'Channel_1', 'Channel_2'),\n",
       " ('Channel_0', 'Channel_1', 'Channel3'),\n",
       " ('Channel_0', 'Channel_1', 'Channel4'),\n",
       " ('Channel_0', 'Channel_2', 'Channel3'),\n",
       " ('Channel_0', 'Channel_2', 'Channel4'),\n",
       " ('Channel_0', 'Channel3', 'Channel4'),\n",
       " ('Channel_1', 'Channel_2', 'Channel3'),\n",
       " ('Channel_1', 'Channel_2', 'Channel4'),\n",
       " ('Channel_1', 'Channel3', 'Channel4'),\n",
       " ('Channel_2', 'Channel3', 'Channel4'),\n",
       " ('Channel_0', 'Channel_1', 'Channel_2', 'Channel3'),\n",
       " ('Channel_0', 'Channel_1', 'Channel_2', 'Channel4'),\n",
       " ('Channel_0', 'Channel_1', 'Channel3', 'Channel4'),\n",
       " ('Channel_0', 'Channel_2', 'Channel3', 'Channel4'),\n",
       " ('Channel_1', 'Channel_2', 'Channel3', 'Channel4'),\n",
       " ('Channel_0', 'Channel_1', 'Channel_2', 'Channel3', 'Channel4')]"
      ]
     },
     "execution_count": 80,
     "metadata": {},
     "output_type": "execute_result"
    }
   ],
   "source": [
    "## Made power set of columns:-\n",
    "\n",
    "from itertools import combinations\n",
    "perm = []\n",
    "for i in range(0,15):\n",
    "    for i in combinations(df.columns[1:],i):\n",
    "        perm.append(i)\n",
    "perm "
   ]
  },
  {
   "cell_type": "code",
   "execution_count": 81,
   "metadata": {},
   "outputs": [
    {
     "data": {
      "text/plain": [
       "[['Channel_0'],\n",
       " ['Channel_1'],\n",
       " ['Channel_2'],\n",
       " ['Channel3'],\n",
       " ['Channel4'],\n",
       " ['Channel_0', 'Channel_1'],\n",
       " ['Channel_0', 'Channel_2'],\n",
       " ['Channel_0', 'Channel3'],\n",
       " ['Channel_0', 'Channel4'],\n",
       " ['Channel_1', 'Channel_2'],\n",
       " ['Channel_1', 'Channel3'],\n",
       " ['Channel_1', 'Channel4'],\n",
       " ['Channel_2', 'Channel3'],\n",
       " ['Channel_2', 'Channel4'],\n",
       " ['Channel3', 'Channel4'],\n",
       " ['Channel_0', 'Channel_1', 'Channel_2'],\n",
       " ['Channel_0', 'Channel_1', 'Channel3'],\n",
       " ['Channel_0', 'Channel_1', 'Channel4'],\n",
       " ['Channel_0', 'Channel_2', 'Channel3'],\n",
       " ['Channel_0', 'Channel_2', 'Channel4'],\n",
       " ['Channel_0', 'Channel3', 'Channel4'],\n",
       " ['Channel_1', 'Channel_2', 'Channel3'],\n",
       " ['Channel_1', 'Channel_2', 'Channel4'],\n",
       " ['Channel_1', 'Channel3', 'Channel4'],\n",
       " ['Channel_2', 'Channel3', 'Channel4'],\n",
       " ['Channel_0', 'Channel_1', 'Channel_2', 'Channel3'],\n",
       " ['Channel_0', 'Channel_1', 'Channel_2', 'Channel4'],\n",
       " ['Channel_0', 'Channel_1', 'Channel3', 'Channel4'],\n",
       " ['Channel_0', 'Channel_2', 'Channel3', 'Channel4'],\n",
       " ['Channel_1', 'Channel_2', 'Channel3', 'Channel4'],\n",
       " ['Channel_0', 'Channel_1', 'Channel_2', 'Channel3', 'Channel4']]"
      ]
     },
     "execution_count": 81,
     "metadata": {},
     "output_type": "execute_result"
    }
   ],
   "source": [
    "perm_main = []\n",
    "for i in perm[1:]:\n",
    "    perm_main.append(list(i))\n",
    "perm_main"
   ]
  },
  {
   "cell_type": "code",
   "execution_count": 82,
   "metadata": {},
   "outputs": [
    {
     "data": {
      "text/html": [
       "<div>\n",
       "<style scoped>\n",
       "    .dataframe tbody tr th:only-of-type {\n",
       "        vertical-align: middle;\n",
       "    }\n",
       "\n",
       "    .dataframe tbody tr th {\n",
       "        vertical-align: top;\n",
       "    }\n",
       "\n",
       "    .dataframe thead th {\n",
       "        text-align: right;\n",
       "    }\n",
       "</style>\n",
       "<table border=\"1\" class=\"dataframe\">\n",
       "  <thead>\n",
       "    <tr style=\"text-align: right;\">\n",
       "      <th></th>\n",
       "      <th>Channel3</th>\n",
       "      <th>Channel4</th>\n",
       "      <th>Channel_0</th>\n",
       "      <th>Channel_1</th>\n",
       "      <th>Channel_2</th>\n",
       "    </tr>\n",
       "  </thead>\n",
       "  <tbody>\n",
       "    <tr>\n",
       "      <td>0</td>\n",
       "      <td>0</td>\n",
       "      <td>0</td>\n",
       "      <td>0</td>\n",
       "      <td>0</td>\n",
       "      <td>0</td>\n",
       "    </tr>\n",
       "  </tbody>\n",
       "</table>\n",
       "</div>"
      ],
      "text/plain": [
       "   Channel3  Channel4  Channel_0  Channel_1  Channel_2\n",
       "0         0         0          0          0          0"
      ]
     },
     "execution_count": 82,
     "metadata": {},
     "output_type": "execute_result"
    }
   ],
   "source": [
    "from collections import defaultdict\n",
    "dict_ = defaultdict(list) \n",
    "for i in x_test.columns:\n",
    "    dict_[i].append(0)\n",
    "dict_\n",
    "data = pd.DataFrame(dict_)\n",
    "data"
   ]
  },
  {
   "cell_type": "code",
   "execution_count": 83,
   "metadata": {},
   "outputs": [
    {
     "data": {
      "text/plain": [
       "['Channel3', 'Channel4', 'Channel_0', 'Channel_1', 'Channel_2']"
      ]
     },
     "execution_count": 83,
     "metadata": {},
     "output_type": "execute_result"
    }
   ],
   "source": [
    "cols=data.columns.to_list()\n",
    "cols"
   ]
  },
  {
   "cell_type": "code",
   "execution_count": 84,
   "metadata": {},
   "outputs": [
    {
     "data": {
      "text/plain": [
       "[0.6471292812844998,\n",
       " 0.6478824520921217,\n",
       " 0.40718070340646567,\n",
       " 0.5749562716020016,\n",
       " 0.630627821155467,\n",
       " 0.6831037269059702,\n",
       " 0.6603796854009426,\n",
       " 0.6551048663631625,\n",
       " 0.7026852961830409,\n",
       " 0.6589002354603474,\n",
       " 0.6942938544228956,\n",
       " 0.7294356507840839,\n",
       " 0.6271154765039815,\n",
       " 0.6797604382349155,\n",
       " 0.7507882799536338,\n",
       " 0.6935407345895765,\n",
       " 0.7112504309114432,\n",
       " 0.7196918609080715,\n",
       " 0.6682093345732374,\n",
       " 0.7147690515531321,\n",
       " 0.6539817258625811,\n",
       " 0.7045217305623624,\n",
       " 0.7389299018080626,\n",
       " 0.7564554837976175,\n",
       " 0.7892783297545776,\n",
       " 0.7211388562543016,\n",
       " 0.7294011866394898,\n",
       " 0.7457981337358998,\n",
       " 0.6671071833446404,\n",
       " 0.7653066550293659,\n",
       " 0.754911135698643]"
      ]
     },
     "execution_count": 84,
     "metadata": {},
     "output_type": "execute_result"
    }
   ],
   "source": [
    "proba = []  ## probability \n",
    "for each in perm_main:\n",
    "    data.loc[0,cols]=0\n",
    "    for i in each:\n",
    "        data.loc[0,i]=1\n",
    "    proba.append((model.predict_proba(data)[0][1]))\n",
    "    \n",
    "proba  "
   ]
  },
  {
   "cell_type": "code",
   "execution_count": 85,
   "metadata": {},
   "outputs": [],
   "source": [
    "f = open('filename1.txt', 'w')\n",
    "f.write(\"N=5\"+\"\\n\")\n",
    "f.close()\n",
    "#f = open(\"filename1.txt\", \"r\")\n"
   ]
  },
  {
   "cell_type": "code",
   "execution_count": 86,
   "metadata": {},
   "outputs": [],
   "source": [
    "with open('filename1.txt', 'a') as f:\n",
    "    for item in proba:\n",
    "        f.write(\"%s,\" % item)"
   ]
  },
  {
   "cell_type": "code",
   "execution_count": 87,
   "metadata": {},
   "outputs": [
    {
     "data": {
      "text/plain": [
       "['N=5\\n',\n",
       " '0.6471292812844998,0.6478824520921217,0.40718070340646567,0.5749562716020016,0.630627821155467,0.6831037269059702,0.6603796854009426,0.6551048663631625,0.7026852961830409,0.6589002354603474,0.6942938544228956,0.7294356507840839,0.6271154765039815,0.6797604382349155,0.7507882799536338,0.6935407345895765,0.7112504309114432,0.7196918609080715,0.6682093345732374,0.7147690515531321,0.6539817258625811,0.7045217305623624,0.7389299018080626,0.7564554837976175,0.7892783297545776,0.7211388562543016,0.7294011866394898,0.7457981337358998,0.6671071833446404,0.7653066550293659,0.754911135698643,']"
      ]
     },
     "execution_count": 87,
     "metadata": {},
     "output_type": "execute_result"
    }
   ],
   "source": [
    "f = open(\"filename1.txt\", \"r\")\n",
    "f.readlines()"
   ]
  },
  {
   "cell_type": "code",
   "execution_count": 89,
   "metadata": {},
   "outputs": [
    {
     "name": "stdout",
     "output_type": "stream",
     "text": [
      "These are the shapley values of all four channels:- [0.1437960378578001, 0.18748477322249305, 0.09474337414415623, 0.14708605248917245, 0.18180089798502116]\n"
     ]
    }
   ],
   "source": [
    "#!/usr/bin/env python\n",
    "from itertools import combinations\n",
    "import math\n",
    "import bisect\n",
    "import sys\n",
    "\n",
    "def power_set(List):\n",
    "    PS = [list(j) for i in range(len(List)) for j in combinations(List, i+1)]\n",
    "    return PS\n",
    "\n",
    "def main():\n",
    "#     if len(sys.argv) < 2:\n",
    "#         print('Usage: ./shapley.py <filename>')\n",
    "#         return\n",
    "\n",
    "    characteristic_function = []\n",
    "    \n",
    "    with open('./filename1.txt','r') as gamefile: #sys.argv[1]\n",
    "        for line in gamefile:\n",
    "            try:\n",
    "                n = int(line[line.index('=') + 1:])\n",
    "            except:\n",
    "                print(\"Invalid file format\")\n",
    "                sys.exit(0)\n",
    "            break\n",
    "        for line in gamefile:\n",
    "            characteristic_function = line.strip().split(\",\")\n",
    "\n",
    "    if n == 0:\n",
    "        print(\"No players, exiting\")\n",
    "        sys.exit(0)\n",
    "\n",
    "    tempList = list([i for i in range(n)])\n",
    "    N = power_set(tempList)\n",
    "\n",
    "    shapley_values = []\n",
    "    for i in range(n):\n",
    "        shapley = 0\n",
    "        for j in N:\n",
    "            if i not in j:\n",
    "                cmod = len(j)\n",
    "                Cui = j[:]\n",
    "                bisect.insort_left(Cui,i)\n",
    "                l = N.index(j)\n",
    "                k = N.index(Cui)\n",
    "                temp = float(float(characteristic_function[k]) - float(characteristic_function[l])) *\\\n",
    "                           float(math.factorial(cmod) * math.factorial(n - cmod - 1)) / float(math.factorial(n))\n",
    "                shapley += temp\n",
    "                # if i is 0:\n",
    "                #     print j, Cui, cmod, n-cmod-1, characteristic_function[k], characteristic_function[l], math.factorial(cmod), math.factorial(n - cmod - 1), math.factorial(n)\n",
    "\n",
    "        cmod = 0\n",
    "        Cui = [i]\n",
    "        k = N.index(Cui)\n",
    "        temp = float(characteristic_function[k]) * float(math.factorial(cmod) * math.factorial(n - cmod - 1)) / float(math.factorial(n))\n",
    "        shapley += temp\n",
    "\n",
    "        shapley_values.append(shapley)\n",
    "\n",
    "    print('These are the shapley values of all four channels:-',shapley_values)\n",
    "\n",
    "if __name__ == '__main__':\n",
    "    main()"
   ]
  },
  {
   "cell_type": "code",
   "execution_count": null,
   "metadata": {},
   "outputs": [],
   "source": []
  },
  {
   "cell_type": "code",
   "execution_count": null,
   "metadata": {},
   "outputs": [],
   "source": []
  }
 ],
 "metadata": {
  "kernelspec": {
   "display_name": "Python 3",
   "language": "python",
   "name": "python3"
  },
  "language_info": {
   "codemirror_mode": {
    "name": "ipython",
    "version": 3
   },
   "file_extension": ".py",
   "mimetype": "text/x-python",
   "name": "python",
   "nbconvert_exporter": "python",
   "pygments_lexer": "ipython3",
   "version": "3.5.3"
  }
 },
 "nbformat": 4,
 "nbformat_minor": 2
}
